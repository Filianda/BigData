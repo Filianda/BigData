{
  "nbformat": 4,
  "nbformat_minor": 0,
  "metadata": {
    "accelerator": "GPU",
    "colab": {
      "name": "Untitled0.ipynb",
      "provenance": [],
      "collapsed_sections": [
        "9Yb_w3FYkYEz"
      ],
      "include_colab_link": true
    },
    "kernelspec": {
      "display_name": "Python 3",
      "name": "python3"
    },
    "language_info": {
      "name": "python"
    }
  },
  "cells": [
    {
      "cell_type": "markdown",
      "metadata": {
        "id": "view-in-github",
        "colab_type": "text"
      },
      "source": [
        "<a href=\"https://colab.research.google.com/github/Filianda/BigData/blob/main/Untitled0.ipynb\" target=\"_parent\"><img src=\"https://colab.research.google.com/assets/colab-badge.svg\" alt=\"Open In Colab\"/></a>"
      ]
    },
    {
      "cell_type": "markdown",
      "metadata": {
        "id": "HgcRqimkK3Qi"
      },
      "source": [
        "# **1. Zestawnienie połączenia z dyskiem google:**"
      ]
    },
    {
      "cell_type": "code",
      "metadata": {
        "id": "FDokL7LRC2FL",
        "colab": {
          "base_uri": "https://localhost:8080/",
          "height": 129
        },
        "outputId": "8b284d3e-f0dd-4db5-f96c-185945a7e250"
      },
      "source": [
        "from google.colab import drive\n",
        "drive.('/content/drive')\n",
        "drive.flush_and_unmount()"
      ],
      "execution_count": null,
      "outputs": [
        {
          "output_type": "error",
          "ename": "SyntaxError",
          "evalue": "ignored",
          "traceback": [
            "\u001b[0;36m  File \u001b[0;32m\"<ipython-input-28-caabb2c3c1fc>\"\u001b[0;36m, line \u001b[0;32m2\u001b[0m\n\u001b[0;31m    drive.('/content/drive')\u001b[0m\n\u001b[0m          ^\u001b[0m\n\u001b[0;31mSyntaxError\u001b[0m\u001b[0;31m:\u001b[0m invalid syntax\n"
          ]
        }
      ]
    },
    {
      "cell_type": "markdown",
      "metadata": {
        "id": "BNFXrbTRKRTG"
      },
      "source": [
        "# **2. Ustawienie ścieżki do workspace:**\n"
      ]
    },
    {
      "cell_type": "code",
      "metadata": {
        "id": "RE-h5hkxEXkI",
        "colab": {
          "base_uri": "https://localhost:8080/",
          "height": 180
        },
        "outputId": "5336b28a-7bb8-40b5-c93c-a670986080bc"
      },
      "source": [
        "import os\n",
        "os.chdir('/content/drive/MyDrive/Colab Notebooks/Praca inzynierska')"
      ],
      "execution_count": null,
      "outputs": [
        {
          "output_type": "error",
          "ename": "FileNotFoundError",
          "evalue": "ignored",
          "traceback": [
            "\u001b[0;31m---------------------------------------------------------------------------\u001b[0m",
            "\u001b[0;31mFileNotFoundError\u001b[0m                         Traceback (most recent call last)",
            "\u001b[0;32m<ipython-input-19-d3ed97d96f74>\u001b[0m in \u001b[0;36m<module>\u001b[0;34m()\u001b[0m\n\u001b[1;32m      1\u001b[0m \u001b[0;32mimport\u001b[0m \u001b[0mos\u001b[0m\u001b[0;34m\u001b[0m\u001b[0;34m\u001b[0m\u001b[0m\n\u001b[0;32m----> 2\u001b[0;31m \u001b[0mos\u001b[0m\u001b[0;34m.\u001b[0m\u001b[0mchdir\u001b[0m\u001b[0;34m(\u001b[0m\u001b[0;34m'/content/drive/MyDrive/Colab Notebooks/Praca inzynierska'\u001b[0m\u001b[0;34m)\u001b[0m\u001b[0;34m\u001b[0m\u001b[0;34m\u001b[0m\u001b[0m\n\u001b[0m",
            "\u001b[0;31mFileNotFoundError\u001b[0m: [Errno 2] No such file or directory: '/content/drive/MyDrive/Colab Notebooks/Praca inzynierska'"
          ]
        }
      ]
    },
    {
      "cell_type": "markdown",
      "metadata": {
        "id": "0ZSvzbS2HBKt"
      },
      "source": [
        "# **3. Wgranie potrzebnych zmiennych startowych i bibliotek**"
      ]
    },
    {
      "cell_type": "code",
      "metadata": {
        "id": "DGWR7dq6HGLH",
        "colab": {
          "base_uri": "https://localhost:8080/",
          "height": 442
        },
        "outputId": "512debdd-6d09-4723-9561-b6b6142ebd44"
      },
      "source": [
        "from PIL import Image, ImageFilter\n",
        "import pandas as pd\n",
        "import numpy as np\n",
        "\n",
        "path_file = \"./Resize_images/\"\n",
        "csv_file_path = './full_df.csv'\n",
        "data = pd.read_csv(csv_file_path)\n",
        "\n",
        "# te nizej zmienne juz nie sa takie istotne w dalszych rozwazaniach\n",
        "pictures_file_path = './Training Images 7 tys'\n",
        "list_of_pictures = pd.read_csv(csv_file_path)['Left-Fundus'].tolist() + (pd.read_csv(csv_file_path)['Right-Fundus'].tolist())"
      ],
      "execution_count": null,
      "outputs": [
        {
          "output_type": "error",
          "ename": "FileNotFoundError",
          "evalue": "ignored",
          "traceback": [
            "\u001b[0;31m---------------------------------------------------------------------------\u001b[0m",
            "\u001b[0;31mFileNotFoundError\u001b[0m                         Traceback (most recent call last)",
            "\u001b[0;32m<ipython-input-20-9acf7f082ad0>\u001b[0m in \u001b[0;36m<module>\u001b[0;34m()\u001b[0m\n\u001b[1;32m      5\u001b[0m \u001b[0mpath_file\u001b[0m \u001b[0;34m=\u001b[0m \u001b[0;34m\"./Resize_images/\"\u001b[0m\u001b[0;34m\u001b[0m\u001b[0;34m\u001b[0m\u001b[0m\n\u001b[1;32m      6\u001b[0m \u001b[0mcsv_file_path\u001b[0m \u001b[0;34m=\u001b[0m \u001b[0;34m'./full_df.csv'\u001b[0m\u001b[0;34m\u001b[0m\u001b[0;34m\u001b[0m\u001b[0m\n\u001b[0;32m----> 7\u001b[0;31m \u001b[0mdata\u001b[0m \u001b[0;34m=\u001b[0m \u001b[0mpd\u001b[0m\u001b[0;34m.\u001b[0m\u001b[0mread_csv\u001b[0m\u001b[0;34m(\u001b[0m\u001b[0mcsv_file_path\u001b[0m\u001b[0;34m)\u001b[0m\u001b[0;34m\u001b[0m\u001b[0;34m\u001b[0m\u001b[0m\n\u001b[0m\u001b[1;32m      8\u001b[0m \u001b[0;34m\u001b[0m\u001b[0m\n\u001b[1;32m      9\u001b[0m \u001b[0;31m# te nizej zmienne juz nie sa takie istotne w dalszych rozwazaniach\u001b[0m\u001b[0;34m\u001b[0m\u001b[0;34m\u001b[0m\u001b[0;34m\u001b[0m\u001b[0m\n",
            "\u001b[0;32m/usr/local/lib/python3.7/dist-packages/pandas/io/parsers.py\u001b[0m in \u001b[0;36mread_csv\u001b[0;34m(filepath_or_buffer, sep, delimiter, header, names, index_col, usecols, squeeze, prefix, mangle_dupe_cols, dtype, engine, converters, true_values, false_values, skipinitialspace, skiprows, skipfooter, nrows, na_values, keep_default_na, na_filter, verbose, skip_blank_lines, parse_dates, infer_datetime_format, keep_date_col, date_parser, dayfirst, cache_dates, iterator, chunksize, compression, thousands, decimal, lineterminator, quotechar, quoting, doublequote, escapechar, comment, encoding, dialect, error_bad_lines, warn_bad_lines, delim_whitespace, low_memory, memory_map, float_precision)\u001b[0m\n\u001b[1;32m    686\u001b[0m     )\n\u001b[1;32m    687\u001b[0m \u001b[0;34m\u001b[0m\u001b[0m\n\u001b[0;32m--> 688\u001b[0;31m     \u001b[0;32mreturn\u001b[0m \u001b[0m_read\u001b[0m\u001b[0;34m(\u001b[0m\u001b[0mfilepath_or_buffer\u001b[0m\u001b[0;34m,\u001b[0m \u001b[0mkwds\u001b[0m\u001b[0;34m)\u001b[0m\u001b[0;34m\u001b[0m\u001b[0;34m\u001b[0m\u001b[0m\n\u001b[0m\u001b[1;32m    689\u001b[0m \u001b[0;34m\u001b[0m\u001b[0m\n\u001b[1;32m    690\u001b[0m \u001b[0;34m\u001b[0m\u001b[0m\n",
            "\u001b[0;32m/usr/local/lib/python3.7/dist-packages/pandas/io/parsers.py\u001b[0m in \u001b[0;36m_read\u001b[0;34m(filepath_or_buffer, kwds)\u001b[0m\n\u001b[1;32m    452\u001b[0m \u001b[0;34m\u001b[0m\u001b[0m\n\u001b[1;32m    453\u001b[0m     \u001b[0;31m# Create the parser.\u001b[0m\u001b[0;34m\u001b[0m\u001b[0;34m\u001b[0m\u001b[0;34m\u001b[0m\u001b[0m\n\u001b[0;32m--> 454\u001b[0;31m     \u001b[0mparser\u001b[0m \u001b[0;34m=\u001b[0m \u001b[0mTextFileReader\u001b[0m\u001b[0;34m(\u001b[0m\u001b[0mfp_or_buf\u001b[0m\u001b[0;34m,\u001b[0m \u001b[0;34m**\u001b[0m\u001b[0mkwds\u001b[0m\u001b[0;34m)\u001b[0m\u001b[0;34m\u001b[0m\u001b[0;34m\u001b[0m\u001b[0m\n\u001b[0m\u001b[1;32m    455\u001b[0m \u001b[0;34m\u001b[0m\u001b[0m\n\u001b[1;32m    456\u001b[0m     \u001b[0;32mif\u001b[0m \u001b[0mchunksize\u001b[0m \u001b[0;32mor\u001b[0m \u001b[0miterator\u001b[0m\u001b[0;34m:\u001b[0m\u001b[0;34m\u001b[0m\u001b[0;34m\u001b[0m\u001b[0m\n",
            "\u001b[0;32m/usr/local/lib/python3.7/dist-packages/pandas/io/parsers.py\u001b[0m in \u001b[0;36m__init__\u001b[0;34m(self, f, engine, **kwds)\u001b[0m\n\u001b[1;32m    946\u001b[0m             \u001b[0mself\u001b[0m\u001b[0;34m.\u001b[0m\u001b[0moptions\u001b[0m\u001b[0;34m[\u001b[0m\u001b[0;34m\"has_index_names\"\u001b[0m\u001b[0;34m]\u001b[0m \u001b[0;34m=\u001b[0m \u001b[0mkwds\u001b[0m\u001b[0;34m[\u001b[0m\u001b[0;34m\"has_index_names\"\u001b[0m\u001b[0;34m]\u001b[0m\u001b[0;34m\u001b[0m\u001b[0;34m\u001b[0m\u001b[0m\n\u001b[1;32m    947\u001b[0m \u001b[0;34m\u001b[0m\u001b[0m\n\u001b[0;32m--> 948\u001b[0;31m         \u001b[0mself\u001b[0m\u001b[0;34m.\u001b[0m\u001b[0m_make_engine\u001b[0m\u001b[0;34m(\u001b[0m\u001b[0mself\u001b[0m\u001b[0;34m.\u001b[0m\u001b[0mengine\u001b[0m\u001b[0;34m)\u001b[0m\u001b[0;34m\u001b[0m\u001b[0;34m\u001b[0m\u001b[0m\n\u001b[0m\u001b[1;32m    949\u001b[0m \u001b[0;34m\u001b[0m\u001b[0m\n\u001b[1;32m    950\u001b[0m     \u001b[0;32mdef\u001b[0m \u001b[0mclose\u001b[0m\u001b[0;34m(\u001b[0m\u001b[0mself\u001b[0m\u001b[0;34m)\u001b[0m\u001b[0;34m:\u001b[0m\u001b[0;34m\u001b[0m\u001b[0;34m\u001b[0m\u001b[0m\n",
            "\u001b[0;32m/usr/local/lib/python3.7/dist-packages/pandas/io/parsers.py\u001b[0m in \u001b[0;36m_make_engine\u001b[0;34m(self, engine)\u001b[0m\n\u001b[1;32m   1178\u001b[0m     \u001b[0;32mdef\u001b[0m \u001b[0m_make_engine\u001b[0m\u001b[0;34m(\u001b[0m\u001b[0mself\u001b[0m\u001b[0;34m,\u001b[0m \u001b[0mengine\u001b[0m\u001b[0;34m=\u001b[0m\u001b[0;34m\"c\"\u001b[0m\u001b[0;34m)\u001b[0m\u001b[0;34m:\u001b[0m\u001b[0;34m\u001b[0m\u001b[0;34m\u001b[0m\u001b[0m\n\u001b[1;32m   1179\u001b[0m         \u001b[0;32mif\u001b[0m \u001b[0mengine\u001b[0m \u001b[0;34m==\u001b[0m \u001b[0;34m\"c\"\u001b[0m\u001b[0;34m:\u001b[0m\u001b[0;34m\u001b[0m\u001b[0;34m\u001b[0m\u001b[0m\n\u001b[0;32m-> 1180\u001b[0;31m             \u001b[0mself\u001b[0m\u001b[0;34m.\u001b[0m\u001b[0m_engine\u001b[0m \u001b[0;34m=\u001b[0m \u001b[0mCParserWrapper\u001b[0m\u001b[0;34m(\u001b[0m\u001b[0mself\u001b[0m\u001b[0;34m.\u001b[0m\u001b[0mf\u001b[0m\u001b[0;34m,\u001b[0m \u001b[0;34m**\u001b[0m\u001b[0mself\u001b[0m\u001b[0;34m.\u001b[0m\u001b[0moptions\u001b[0m\u001b[0;34m)\u001b[0m\u001b[0;34m\u001b[0m\u001b[0;34m\u001b[0m\u001b[0m\n\u001b[0m\u001b[1;32m   1181\u001b[0m         \u001b[0;32melse\u001b[0m\u001b[0;34m:\u001b[0m\u001b[0;34m\u001b[0m\u001b[0;34m\u001b[0m\u001b[0m\n\u001b[1;32m   1182\u001b[0m             \u001b[0;32mif\u001b[0m \u001b[0mengine\u001b[0m \u001b[0;34m==\u001b[0m \u001b[0;34m\"python\"\u001b[0m\u001b[0;34m:\u001b[0m\u001b[0;34m\u001b[0m\u001b[0;34m\u001b[0m\u001b[0m\n",
            "\u001b[0;32m/usr/local/lib/python3.7/dist-packages/pandas/io/parsers.py\u001b[0m in \u001b[0;36m__init__\u001b[0;34m(self, src, **kwds)\u001b[0m\n\u001b[1;32m   2008\u001b[0m         \u001b[0mkwds\u001b[0m\u001b[0;34m[\u001b[0m\u001b[0;34m\"usecols\"\u001b[0m\u001b[0;34m]\u001b[0m \u001b[0;34m=\u001b[0m \u001b[0mself\u001b[0m\u001b[0;34m.\u001b[0m\u001b[0musecols\u001b[0m\u001b[0;34m\u001b[0m\u001b[0;34m\u001b[0m\u001b[0m\n\u001b[1;32m   2009\u001b[0m \u001b[0;34m\u001b[0m\u001b[0m\n\u001b[0;32m-> 2010\u001b[0;31m         \u001b[0mself\u001b[0m\u001b[0;34m.\u001b[0m\u001b[0m_reader\u001b[0m \u001b[0;34m=\u001b[0m \u001b[0mparsers\u001b[0m\u001b[0;34m.\u001b[0m\u001b[0mTextReader\u001b[0m\u001b[0;34m(\u001b[0m\u001b[0msrc\u001b[0m\u001b[0;34m,\u001b[0m \u001b[0;34m**\u001b[0m\u001b[0mkwds\u001b[0m\u001b[0;34m)\u001b[0m\u001b[0;34m\u001b[0m\u001b[0;34m\u001b[0m\u001b[0m\n\u001b[0m\u001b[1;32m   2011\u001b[0m         \u001b[0mself\u001b[0m\u001b[0;34m.\u001b[0m\u001b[0munnamed_cols\u001b[0m \u001b[0;34m=\u001b[0m \u001b[0mself\u001b[0m\u001b[0;34m.\u001b[0m\u001b[0m_reader\u001b[0m\u001b[0;34m.\u001b[0m\u001b[0munnamed_cols\u001b[0m\u001b[0;34m\u001b[0m\u001b[0;34m\u001b[0m\u001b[0m\n\u001b[1;32m   2012\u001b[0m \u001b[0;34m\u001b[0m\u001b[0m\n",
            "\u001b[0;32mpandas/_libs/parsers.pyx\u001b[0m in \u001b[0;36mpandas._libs.parsers.TextReader.__cinit__\u001b[0;34m()\u001b[0m\n",
            "\u001b[0;32mpandas/_libs/parsers.pyx\u001b[0m in \u001b[0;36mpandas._libs.parsers.TextReader._setup_parser_source\u001b[0;34m()\u001b[0m\n",
            "\u001b[0;31mFileNotFoundError\u001b[0m: [Errno 2] No such file or directory: './full_df.csv'"
          ]
        }
      ]
    },
    {
      "cell_type": "markdown",
      "metadata": {
        "id": "9Yb_w3FYkYEz"
      },
      "source": [
        "# Edycja zdjęć"
      ]
    },
    {
      "cell_type": "markdown",
      "metadata": {
        "id": "0H9hbnK2F2gp"
      },
      "source": [
        "##sprawdzenie początkowego rozmiaru zdjęć jakie sa w bazie"
      ]
    },
    {
      "cell_type": "code",
      "metadata": {
        "id": "KaBfjWbTF8Jv"
      },
      "source": [
        "widths = set()\n",
        "heights = set()\n",
        "count_of_pic = 0\n",
        "\n",
        "for picture_name in list_of_pictures:\n",
        "  im = Image.open(pictures_file_path +'/' + picture_name)\n",
        "  count_of_pic = count_of_pic + 1\n",
        "  widths.add(im.size[0])\n",
        "  heights.add(im.size[1])\n",
        "\n",
        "if len(widths) > 1 or len(heights) > 1:\n",
        "  print(\"Attention: Size of pictures is different\")\n",
        "  print(\"Suggested size of pictures is: width -> \" + str(min(widths)) + \" height -> \" + str(min(heights)))\n",
        "else:\n",
        "  print(\"All pictures have the same size hight -> \" + widths + \" height -> \" + heights)"
      ],
      "execution_count": null,
      "outputs": []
    },
    {
      "cell_type": "markdown",
      "metadata": {
        "id": "C1OgiHgZGFqw"
      },
      "source": [
        "```\n",
        "Output:\n",
        "Attention: Size of pictures is different\n",
        "Suggested size of pictures is: widths -> 250 height -> 188\n",
        "```"
      ]
    },
    {
      "cell_type": "markdown",
      "metadata": {
        "id": "lVBh1NAFGVdG"
      },
      "source": [
        "##Zmiana rozmairu obrazów - ze względu na ich różne rozmiary z powyższego outputu - zdjęcia po zmianie sa wgrane na dysku:"
      ]
    },
    {
      "cell_type": "code",
      "metadata": {
        "id": "7O_h2T9SGpch"
      },
      "source": [
        "for picture_name in list_of_pictures:\n",
        "  im = Image.open(pictures_file_path +'/' + picture_name)\n",
        "  new_image = im.resize((250, 188))\n",
        "  new_image.save('./Resize_image/'+ picture_name)"
      ],
      "execution_count": null,
      "outputs": []
    },
    {
      "cell_type": "code",
      "metadata": {
        "id": "lUuxh-e-GwMI"
      },
      "source": [
        "#Sprawdzenie czy jest tyle samo obrazów co przed zmianą rozmiaru\n",
        "cout_of_pictures = 0\n",
        "for picture_name in list_of_pictures:\n",
        "  im = Image.open(pictures_file_path +'/' + picture_name)\n",
        "  cout_of_pictures = cout_of_pictures + 1\n",
        "  if im.size[0] != 250 or im.size != 188:\n",
        "    print(\"Error: Diffrent size of pictures\")\n",
        "if cout_of_pictures == count_of_pic:\n",
        "  print(\"Test: passed\")\n",
        "else:\n",
        "  print(\"Error: The number of pictures changed\")"
      ],
      "execution_count": null,
      "outputs": []
    },
    {
      "cell_type": "markdown",
      "metadata": {
        "id": "dzI8mtX62Ngm"
      },
      "source": [
        "#Badanie labels"
      ]
    },
    {
      "cell_type": "markdown",
      "metadata": {
        "id": "26Ttng2oIfL5"
      },
      "source": [
        "6. Badanie liczby chorób dla poszczególnej tablei wg labeli ze zmiennej *data*"
      ]
    },
    {
      "cell_type": "code",
      "metadata": {
        "id": "8yGNOuBXIoUn"
      },
      "source": [
        "dictoo = {'N':'Zdrowy','D':'Cukrzyca','G':'Jaskra','C':'Zaćma','A':'Zwyrodnienie plamki żółtej związane z wiekiem','H':'Nadciśnienie','M':'Krótkowzrocznośc patologiczna','O':'Inne choroby'}\n",
        "dicto = {'N':0,'D':0,'G':0,'C':0,'A':0,'H':0,'M':0,'O':0}\n",
        "for i in range(6392):\n",
        "  for j in dicto.keys():\n",
        "    dicto[j] += data.at[i,j]"
      ],
      "execution_count": null,
      "outputs": []
    },
    {
      "cell_type": "code",
      "metadata": {
        "id": "Nh1yBRY3Iw6P"
      },
      "source": [
        "for i in dictoo.keys():\n",
        "  print(str(dicto[i]) + \" : \" + str(dictoo[i]))"
      ],
      "execution_count": null,
      "outputs": []
    },
    {
      "cell_type": "markdown",
      "metadata": {
        "id": "dbTAbKVGI056"
      },
      "source": [
        "```\n",
        "Output:\n",
        "2101 : Zdrowy\n",
        "2123 : Cukrzyca\n",
        "397 : Jaskra\n",
        "402 : Zaćma\n",
        "319 : Zwyrodnienie plamki żółtej związane z wiekiem\n",
        "203 : Nadciśnienie\n",
        "306 : Krótkowzrocznośc patologiczna\n",
        "1588 : Inne choroby\n",
        "```"
      ]
    },
    {
      "cell_type": "markdown",
      "metadata": {
        "id": "S-wgXcamJL0e"
      },
      "source": [
        "Badanie liczby unikalnych opisów ze zmienej *data*"
      ]
    },
    {
      "cell_type": "code",
      "metadata": {
        "id": "2OGfCEqrJVId"
      },
      "source": [
        "keywords_set = []\n",
        "for line in data['Left-Diagnostic Keywords']:\n",
        " l = line.split('，')\n",
        " for kw in l:\n",
        "   keywords_set.append(kw)\n",
        "for line in data['Right-Diagnostic Keywords']:\n",
        "  l = line.split('，')\n",
        "  for kw in l:\n",
        "    keywords_set.append(kw)\n",
        "keywords_set = set(keywords_set)"
      ],
      "execution_count": null,
      "outputs": []
    },
    {
      "cell_type": "code",
      "metadata": {
        "id": "LT7VTgS4Jkub"
      },
      "source": [
        "eye_dict = {}\n",
        "for keyword in keywords_set:\n",
        "  eye_dict[keyword] = []"
      ],
      "execution_count": null,
      "outputs": []
    },
    {
      "cell_type": "code",
      "metadata": {
        "id": "G5QbS98MKSda"
      },
      "source": [
        "for index, row in data.iterrows():\n",
        "  lf, ldk, rf, rdk = row['Left-Fundus'], row['Left-Diagnostic Keywords'], row['Right-Fundus'], row['Right-Diagnostic Keywords']\n",
        "  for condition in ldk.split('，'):\n",
        "    eye_dict[condition].append(lf)\n",
        "  for condition in rdk.split('，'):\n",
        "    eye_dict[condition].append(rf)"
      ],
      "execution_count": null,
      "outputs": []
    },
    {
      "cell_type": "code",
      "metadata": {
        "id": "sxCGwjPuJuI8"
      },
      "source": [
        "print(len(eye_dict))\n",
        "eye_dict2 = {}\n",
        "x = 0\n",
        "for con in eye_dict:\n",
        "  eye_dict2[con] = len(eye_dict[con])\n",
        "  print(con, len(eye_dict[con]))\n",
        "  x += len(eye_dict[con])\n",
        "print(x)"
      ],
      "execution_count": null,
      "outputs": []
    },
    {
      "cell_type": "markdown",
      "metadata": {
        "id": "tlAv6_jz7RI2"
      },
      "source": [
        "wg nowego podziału"
      ]
    },
    {
      "cell_type": "code",
      "metadata": {
        "id": "9OMLlfL_7TLv"
      },
      "source": [
        "eye_dict3 = {'lasery' : 0,'zdrowie' : 0,'brak_zly_wyglad' : 0,\n",
        "             'atrofia' : 0,'erm' : 0,'cukrzyca' : 0,'obrzek_plamki' : 0,'odwarstiwnie' : 0,\n",
        "             'zakrzep_zyly' : 0,'zator_tetnicy' : 0,'zanik_okolotarczowy' : 0,\n",
        "             'zapalenie_lub_obrzek_tarczy' : 0,'jaskra' : 0,'druzy' : 0,'rozszczep': 0,\n",
        "             'za_duzo_pigmentu' : 0,'za_malo_pigmentu' : 0,'problem_z_pigmentem' : 0,'zaburzenia_unaczynienia': 0,\n",
        "             'krwotok_srodsiadkowkowy' : 0,'retinopatia_nadcisieniowa' : 0,'wlokna_redzenne' : 0,'biale_naczynie' : 0,\n",
        "             'problemy_naczyniowki' : 0,'inne' :0,'nie_wiem': 0}\n",
        "lasery1 = 0\n",
        "zdrowie1 = 0\n",
        "brak_zly_wyglad1 = 0\n",
        "atrofia1 = 0\n",
        "erm1 = 0\n",
        "cukrzyca1 = 0\n",
        "obrzek_plamki1 = 0\n",
        "odwarstiwnie1 = 0\n",
        "zakrzep_zyly1 = 0\n",
        "zator_tetnicy1 = 0\n",
        "zanik_okolotarczowy1 = 0\n",
        "zapalenie_lub_obrzek_tarczy1 = 0\n",
        "jaskra1 = 0\n",
        "druzy1 = 0\n",
        "rozszczep1 = 0\n",
        "za_duzo_pigmentu1 = 0\n",
        "za_malo_pigmentu1 = 0\n",
        "problem_z_pigmentem1 = 0\n",
        "zaburzenia_unaczynienia1 = 0\n",
        "krwotok_srodsiadkowkowy1 = 0\n",
        "retinopatia_nadcisieniowa1 = 0\n",
        "wlokna_redzenne1 = 0\n",
        "biale_naczynie1 = 0\n",
        "problemy_naczyniowki1 = 0\n",
        "inne1 = 0\n",
        "nie_wiem1= 0\n",
        "#################\n",
        "lasery = ['fundus laser photocoagulation spots','laser spot', 'post retinal laser surgery','post laser photocoagulation']\n",
        "zdrowie = ['normal fundus']\n",
        "brak_zly_wyglad = ['suspected cataract', 'anterior segment image','cataract','lens dust','low image quality','vitreous opacity','vitreous degeneration','silicone oil eye','refractive media opacity','no fundus image','optic disk photographically invisible','image offset']\n",
        "atrofia = ['diffuse retinal atrophy', 'atrophic change','retinal pigment epithelium atrophy','atrophy','myopic maculopathy','macular hole','pathological myopia','myopia retinopathy','oval yellow-white atrophy']\n",
        "erm = ['epiretinal membrane','epiretinal membrane over the macula','macular epiretinal membrane','optic disk epiretinal membrane','suspected macular epimacular membrane']\n",
        "cukrzyca = ['proliferative diabetic retinopathy','severe nonproliferative retinopathy','mild nonproliferative retinopathy', 'moderate non proliferative retinopathy','severe proliferative diabetic retinopathy','suspected moderate non proliferative retinopathy','hypertensive retinopathy,diabetic retinopathy','diabetic retinopathy','suspected diabetic retinopathy','suspicious diabetic retinopathy']\n",
        "obrzek_plamki = ['central serous chorioretinopathy','wet age-related macular degeneration']\n",
        "odwarstiwnie = ['retinal detachment']\n",
        "zakrzep_zyly = ['old branch retinal vein occlusion','old central retinal vein occlusion','branch retinal vein occlusion','central retinal vein occlusion']\n",
        "zator_tetnicy = ['branch retinal artery occlusion','central retinal artery occlusion']\n",
        "zanik_okolotarczowy = ['optic nerve atrophy','peripapillary atrophy','suspected abnormal color of  optic disc']\n",
        "zapalenie_lub_obrzek_tarczy = ['optic discitis','optic disc edema']\n",
        "jaskra = ['glaucoma','suspected glaucoma']\n",
        "druzy = ['dry age-related macular degeneration','drusen','age-related macular degeneration']\n",
        "rozszczep = ['retinochoroidal coloboma','congenital choroidal coloboma','macular coloboma']\n",
        "za_duzo_pigmentu = ['pigment epithelium proliferation','retinal pigment epithelial hypertrophy','retinal pigmentation','pigmentation disorder','retinitis pigmentosa']\n",
        "za_malo_pigmentu = ['depigmentation of the retinal pigment epithelium']\n",
        "problem_z_pigmentem = ['macular pigmentation disorder','abnormal pigment']\n",
        "zaburzenia_unaczynienia = ['arteriosclerosis','suspected microvascular anomalies','intraretinal microvascular abnormality','idiopathic choroidal neovascularization','vessel tortuosity']\n",
        "krwotok_srodsiadkowkowy = ['intraretinal hemorrhage']\n",
        "retinopatia_nadcisieniowa = ['hypertensive retinopathy']\n",
        "wlokna_redzenne = ['myelinated nerve fibers','glial remnants anterior to the optic disc']\n",
        "biale_naczynie = ['white vessel','retinal vascular sheathing','suspected retinal vascular sheathing']\n",
        "problemy_naczyniowki = ['old choroiditis''old chorioretinopathy','diffuse chorioretinal atrophy','chorioretinal atrophy','chorioretinal atrophy with pigmentation proliferation']\n",
        "inne = ['retina fold','choroidal nevus','morning glory syndrome','tessellated fundus']\n",
        "nie_wiem= ['wedge white line change','spotted membranous change','low image quality,maculopathy','maculopathy']"
      ],
      "execution_count": null,
      "outputs": []
    },
    {
      "cell_type": "code",
      "metadata": {
        "id": "yatl9PkuBXLP"
      },
      "source": [
        "for i in eye_dict2.keys():\n",
        "  if i in lasery:\n",
        "    lasery1 += eye_dict2[i]\n",
        "  if i in zdrowie:\n",
        "    zdrowie1 += eye_dict2[i]\n",
        "  if i in brak_zly_wyglad:\n",
        "    brak_zly_wyglad1 += eye_dict2[i]\n",
        "  if i in atrofia:\n",
        "    atrofia1 += eye_dict2[i]\n",
        "  if i in erm:\n",
        "    erm1 += eye_dict2[i]\n",
        "  if i in obrzek_plamki:\n",
        "    obrzek_plamki1 += eye_dict2[i]\n",
        "  if i in cukrzyca:\n",
        "    cukrzyca1 += eye_dict2[i]\n",
        "  if i in odwarstiwnie:\n",
        "    odwarstiwnie1 += eye_dict2[i]\n",
        "  if i in zakrzep_zyly:\n",
        "    zakrzep_zyly1 += eye_dict2[i]\n",
        "########################################33\n",
        "  if i in zator_tetnicy:\n",
        "    print('zator)')\n",
        "    zator_tetnicy1 += eye_dict2[i]\n",
        "    print(zator_tetnicy1)\n",
        "  if i in zanik_okolotarczowy:\n",
        "    zanik_okolotarczowy1 += eye_dict2[i]\n",
        "  if i in zapalenie_lub_obrzek_tarczy:\n",
        "    zapalenie_lub_obrzek_tarczy1 += eye_dict2[i]\n",
        "  if i in jaskra:\n",
        "    jaskra1 += eye_dict2[i]\n",
        "  if i in druzy:\n",
        "    druzy1 += eye_dict2[i]\n",
        "  if i in rozszczep:\n",
        "    rozszczep1 += eye_dict2[i]\n",
        "  if i in za_duzo_pigmentu:\n",
        "    za_duzo_pigmentu1 += eye_dict2[i]\n",
        "  if i in za_malo_pigmentu:\n",
        "    za_malo_pigmentu1 += eye_dict2[i]\n",
        "  if i in problem_z_pigmentem:\n",
        "    problem_z_pigmentem1 += eye_dict2[i]\n",
        "  if i in zaburzenia_unaczynienia:\n",
        "    zaburzenia_unaczynienia1 += eye_dict2[i]\n",
        "  if i in krwotok_srodsiadkowkowy:\n",
        "    krwotok_srodsiadkowkowy1 += eye_dict2[i]\n",
        "  if i in retinopatia_nadcisieniowa:\n",
        "    retinopatia_nadcisieniowa1 += eye_dict2[i]\n",
        "  if i in biale_naczynie:\n",
        "    biale_naczynie1 += eye_dict2[i]\n",
        "  if i in wlokna_redzenne:\n",
        "    wlokna_redzenne1 += eye_dict2[i]\n",
        "  if i in problemy_naczyniowki:\n",
        "    problemy_naczyniowki1 += eye_dict2[i]\n",
        "  if i in inne:\n",
        "    inne1 += eye_dict2[i]\n",
        "  if i in nie_wiem:\n",
        "    nie_wiem1 += eye_dict2[i]"
      ],
      "execution_count": null,
      "outputs": []
    },
    {
      "cell_type": "code",
      "metadata": {
        "id": "IClINihwEUK9"
      },
      "source": [
        "for i in eye_dict3.keys():\n",
        "  if i == 'lasery':\n",
        "    eye_dict3[i] = lasery1\n",
        "  if i == 'zdrowie':\n",
        "    eye_dict3[i] = zdrowie1\n",
        "  if i == 'brak_zly_wyglad':\n",
        "    eye_dict3[i] =brak_zly_wyglad1 \n",
        "  if i == 'atrofia':\n",
        "    eye_dict3[i] =atrofia1 \n",
        "  if i == 'erm':\n",
        "    eye_dict3[i] =erm1 \n",
        "  if i == 'obrzek_plamki':\n",
        "    eye_dict3[i] =obrzek_plamki1 \n",
        "  if i == 'cukrzyca':\n",
        "    eye_dict3[i] =cukrzyca1\n",
        "  if i == 'odwarstiwnie':\n",
        "    eye_dict3[i] =odwarstiwnie1 \n",
        "  if i == 'zakrzep_zyly':\n",
        "    eye_dict3[i] =zakrzep_zyly1 \n",
        "###################################33\n",
        "  if i == 'zator_tetnicy':\n",
        "    print(\"zator\")\n",
        "    print(zator_tetnicy1)\n",
        "    eye_dict3[i] =zator_tetnicy1\n",
        "  if i == 'zanik_okolotarczowy':\n",
        "    eye_dict3[i] =zanik_okolotarczowy1 \n",
        "  if i == 'zapalenie_lub_obrzek_tarczy':\n",
        "    eye_dict3[i] =zapalenie_lub_obrzek_tarczy1 \n",
        "  if i == 'jaskra':\n",
        "    eye_dict3[i] =jaskra1\n",
        "  if i == 'druzy':\n",
        "    eye_dict3[i] =druzy1 \n",
        "  if i == 'rozszczep':\n",
        "    eye_dict3[i] =rozszczep1\n",
        "  if i == 'za_duzo_pigmentu':\n",
        "    eye_dict3[i] =za_duzo_pigmentu1\n",
        "  if i == 'za_malo_pigmentu':\n",
        "    eye_dict3[i] =za_malo_pigmentu1 \n",
        "  if i == 'problem_z_pigmentem':\n",
        "    eye_dict3[i] =problem_z_pigmentem1\n",
        "  if i == 'zaburzenia_unaczynienia':\n",
        "    eye_dict3[i] =zaburzenia_unaczynienia1 \n",
        "  if i == 'krwotok_srodsiadkowkowy':\n",
        "    eye_dict3[i] =krwotok_srodsiadkowkowy1 \n",
        "  if i == 'retinopatia_nadcisieniowa':\n",
        "    eye_dict3[i] =retinopatia_nadcisieniowa1 \n",
        "  if i == 'biale_naczynie':\n",
        "    eye_dict3[i] =biale_naczynie1 \n",
        "  if i == 'wlokna_redzenne':\n",
        "    eye_dict3[i] =wlokna_redzenne1\n",
        "  if i == 'problemy_naczyniowki':\n",
        "    eye_dict3[i] =problemy_naczyniowki1\n",
        "  if i == 'inne':\n",
        "    eye_dict3[i] =inne1 \n",
        "  if i == 'nie_wiem':\n",
        "    eye_dict3[i] =nie_wiem1\n"
      ],
      "execution_count": null,
      "outputs": []
    },
    {
      "cell_type": "code",
      "metadata": {
        "id": "hKnmvyq-FmlR"
      },
      "source": [
        "eye_dict3"
      ],
      "execution_count": null,
      "outputs": []
    },
    {
      "cell_type": "code",
      "metadata": {
        "id": "Um6_pmdHLWOa"
      },
      "source": [
        "suma = lasery1 + zdrowie1 + brak_zly_wyglad1 + atrofia1 +erm1 + cukrzyca1 + obrzek_plamki1 + odwarstiwnie1 + zakrzep_zyly1 + zator_tetnicy1 + zanik_okolotarczowy1 + zapalenie_lub_obrzek_tarczy1 + jaskra1 +druzy1 + rozszczep1 + za_duzo_pigmentu1 + za_malo_pigmentu1 + problem_z_pigmentem1 + zaburzenia_unaczynienia1 + krwotok_srodsiadkowkowy1 + retinopatia_nadcisieniowa1 + wlokna_redzenne1 + biale_naczynie1 + problemy_naczyniowki1 + inne1 + nie_wiem1"
      ],
      "execution_count": null,
      "outputs": []
    },
    {
      "cell_type": "code",
      "metadata": {
        "id": "no0LSw9mMwmB"
      },
      "source": [
        "suma == x"
      ],
      "execution_count": null,
      "outputs": []
    },
    {
      "cell_type": "markdown",
      "metadata": {
        "id": "7B8L4Q7QJ4uf"
      },
      "source": [
        "```\n",
        "łącznie jest 95 różnych wystąpień\n",
        "suspected cataract 2\n",
        "diffuse retinal atrophy 2\n",
        "fundus laser photocoagulation spots 2\n",
        "optic nerve atrophy 6\n",
        "optic discitis 1\n",
        "epiretinal membrane 337\n",
        "dry age-related macular degeneration 449\n",
        "epiretinal membrane over the macula 28\n",
        "atrophic change 9\n",
        "retinal detachment 1\n",
        "proliferative diabetic retinopathy 42\n",
        "peripapillary atrophy 16\n",
        "optic disc edema 6\n",
        "drusen 338\n",
        "diabetic retinopathy 95\n",
        "choroidal nevus 2\n",
        "retinal pigment epithelium atrophy 1\n",
        "arteriosclerosis 1\n",
        "severe nonproliferative retinopathy 312\n",
        "chorioretinal atrophy 21\n",
        "anterior segment image 2\n",
        "suspected microvascular anomalies 1\n",
        "old central retinal vein occlusion 5\n",
        "central serous chorioretinopathy 1\n",
        "wet age-related macular degeneration 96\n",
        "cataract 594\n",
        "branch retinal vein occlusion 49\n",
        "post retinal laser surgery 4\n",
        "vitreous opacity 2\n",
        "atrophy 2\n",
        "old branch retinal vein occlusion 12\n",
        "retinochoroidal coloboma 3\n",
        "suspected abnormal color of  optic disc 1\n",
        "optic disk epiretinal membrane 2\n",
        "intraretinal microvascular abnormality 2\n",
        "pigment epithelium proliferation 4\n",
        "myopic maculopathy 6\n",
        "mild nonproliferative retinopathy 1063\n",
        "macular epiretinal membrane 376\n",
        "hypertensive retinopathy 381\n",
        "macular hole 2\n",
        "chorioretinal atrophy with pigmentation proliferation 3\n",
        "suspected diabetic retinopathy 4\n",
        "retinal pigment epithelial hypertrophy 3\n",
        "idiopathic choroidal neovascularization 3\n",
        "glaucoma 535\n",
        "white vessel 22\n",
        "low image quality 18\n",
        "retina fold 3\n",
        "optic disk photographically invisible 5\n",
        "moderate non proliferative retinopathy 1879\n",
        "pathological myopia 457\n",
        "wedge white line change 1\n",
        "pigmentation disorder 1\n",
        "depigmentation of the retinal pigment epithelium 3\n",
        "post laser photocoagulation 12\n",
        "old choroiditis 1\n",
        "normal fundus 5678\n",
        "central retinal vein occlusion 5\n",
        "macular coloboma 1\n",
        "suspicious diabetic retinopathy 4\n",
        "suspected macular epimacular membrane 2\n",
        "refractive media opacity 124\n",
        "age-related macular degeneration 6\n",
        "low image quality,maculopathy 1\n",
        "myopia retinopathy 22\n",
        "vessel tortuosity 4\n",
        "silicone oil eye 1\n",
        "severe proliferative diabetic retinopathy 19\n",
        "myelinated nerve fibers 185\n",
        "glial remnants anterior to the optic disc 1\n",
        "spotted membranous change 24\n",
        "retinitis pigmentosa 6\n",
        "suspected retinal vascular sheathing 1\n",
        "vitreous degeneration 135\n",
        "abnormal pigment  5\n",
        "oval yellow-white atrophy 1\n",
        "old chorioretinopathy 3\n",
        "retinal vascular sheathing 1\n",
        "branch retinal artery occlusion 2\n",
        "suspected moderate non proliferative retinopathy 2\n",
        "hypertensive retinopathy,diabetic retinopathy 1\n",
        "retinal pigmentation 16\n",
        "congenital choroidal coloboma 1\n",
        "morning glory syndrome 2\n",
        "image offset 1\n",
        "laser spot 96\n",
        "central retinal artery occlusion 5\n",
        "no fundus image 1\n",
        "maculopathy 50\n",
        "diffuse chorioretinal atrophy 2\n",
        "suspected glaucoma 81\n",
        "macular pigmentation disorder 1\n",
        "intraretinal hemorrhage 3\n",
        "tessellated fundus 26\n",
        "```\n",
        "\n"
      ]
    },
    {
      "cell_type": "markdown",
      "metadata": {
        "id": "cOqaulLD2n26"
      },
      "source": [
        "grupowanie"
      ]
    },
    {
      "cell_type": "markdown",
      "metadata": {
        "id": "6k_XN8p-2poO"
      },
      "source": [
        "**Efekt działania laserów**\n",
        "\n",
        "'fundus laser photocoagulation spots' 'laser spot'  'post retinal laser surgery' 'post laser photocoagulation'\n",
        "\n",
        "**Zdrowe**\n",
        "\n",
        "'normal fundus',\n",
        "\n",
        "**Brak lub zły wgląd - brak możliwości oceny dna oka**\n",
        "\n",
        "'suspected cataract', 'anterior segment image' 'cataract' 'lens dust' 'low image quality' 'vitreous opacity''vitreous degeneration' 'silicone oil eye''refractive media opacity' 'no fundus image'\n",
        "'optic disk photographically invisible' 'image offset'\n",
        "\n",
        "**Atrofia - zanik**\t\n",
        "\n",
        "'diffuse retinal atrophy', 'atrophic change'  'retinal pigment epithelium atrophy' 'atrophy',  'myopic maculopathy' 'macular hole' 'pathological myopia' 'myopia retinopathy' 'oval yellow-white atrophy' \n",
        "\n",
        "**ERM = błona nasiatkówkowa**\t\n",
        "\n",
        "'epiretinal membrane' 'epiretinal membrane over the macula' 'macular epiretinal membrane','optic disk epiretinal membrane''suspected macular epimacular membrane'\n",
        "\n",
        "**Retinopatia cukrzycowa**\n",
        "\n",
        "'proliferative diabetic retinopathy' 'severe nonproliferative retinopathy' 'mild nonproliferative retinopathy 'moderate non proliferative retinopathy', 'severe proliferative diabetic retinopathy' 'suspected moderate non proliferative retinopathy', 'hypertensive retinopathy,diabetic retinopathy'\n",
        "'diabetic retinopathy' 'suspected diabetic retinopathy''suspicious diabetic retinopathy'\n",
        "\n",
        "**obrzęk plamki**\t\n",
        "\n",
        "'central serous chorioretinopathy' 'wet age-related macular degeneration'\n",
        "\n",
        "**odwarstwienie**\n",
        "\n",
        "'retinal detachment'\n",
        "\n",
        "**Zakrzep żyły**\n",
        "\n",
        "'old branch retinal vein occlusion'  'old central retinal vein occlusion' 'branch retinal vein occlusion' 'central retinal vein occlusion'\n",
        "\n",
        "**Zator tętnicy **\t\n",
        "\n",
        "'branch retinal artery occlusion' 'central retinal artery occlusion'\n",
        "\n",
        "**Zanik okołotarczowy**\n",
        "\n",
        "'optic nerve atrophy' 'peripapillary atrophy', 'suspected abnormal color of  optic disc'\n",
        "\n",
        "**Zapalenie lub obrzęk tarczy**\t\n",
        "\n",
        "'optic discitis', 'optic disc edema',\n",
        "\n",
        "**jaskra**\n",
        "\n",
        "'glaucoma', 'suspected glaucoma'\n",
        "\n",
        "**druzy**\t\n",
        "\n",
        "'dry age-related macular degeneration', 'drusen',   age-related macular degeneration'\n",
        "\n",
        "**rozszczep**\n",
        "\n",
        "'retinochoroidal coloboma' 'congenital choroidal coloboma''macular coloboma'\n",
        "\n",
        "**Za dużo pigmentu**\n",
        "\n",
        "'pigment epithelium proliferation''retinal pigment epithelial hypertrophy'  'retinal pigmentation' 'pigmentation disorder''retinitis pigmentosa'\n",
        "\n",
        "**Za mało pigmentu**\n",
        "\n",
        "'depigmentation of the retinal pigment epithelium'\n",
        "\n",
        "**Coś z pigmentem ale nie wiadomo co**\n",
        "\n",
        "'macular pigmentation disorder' 'abnormal pigment '\n",
        "\n",
        "**Różne zaburzenia unaczynienia**\n",
        "\n",
        "'arteriosclerosis'- miażdżyca 'suspected microvascular anomalies' – podejrzenie zmian mikrowaskularnych 'intraretinal microvascular abnormality' – śródsiatkówkowa mikrowaskularna  'idiopathic choroidal neovascularization' – nowe patologiczne naczynia 'vessel tortuosity' – krętośc naczyń\n",
        "\n",
        "**Krwotok sródsiatkówkowy**\n",
        "\n",
        "'intraretinal hemorrhage'\n",
        "\n",
        "**Retinopatia nadciśnieniowa**\n",
        "\n",
        "'hypertensive retinopathy'\n",
        "\n",
        "**Włókna rdzenne**\n",
        "\n",
        "'myelinated nerve fibers', 'glial remnants anterior to the optic disc'\n",
        "\n",
        "**Białe naczynia jako nieprawidłowość**\t\n",
        "\n",
        "'white vessel', 'retinal vascular sheathing' 'suspected retinal vascular sheathing'\n",
        "\n",
        "**Problemy naczyniówki**\n",
        "\n",
        "'old choroiditis''old chorioretinopathy', 'diffuse chorioretinal atrophy' 'chorioretinal atrophy''chorioretinal atrophy with pigmentation proliferation'\n",
        "\n",
        "**Inne**\n",
        "\n",
        "'retina fold' – fałd siatkówki  choroidal nevus' - znamię, 'morning glory syndrome' – objaw wrodzony rtarczy  'tessellated fundus' – mozaikowate dno\n",
        "\n",
        "**Nie wiem co to, muszę zobaczyć zdjęcie**\n",
        "\n",
        "'wedge white line change' 'spotted membranous change' , 'low image quality,maculopathy'  'maculopathy' – jaka to makulopatia?\n"
      ]
    },
    {
      "cell_type": "markdown",
      "metadata": {
        "id": "i-izBbiyFM9E"
      },
      "source": [
        "# Kombinacje dotyczące targetów"
      ]
    },
    {
      "cell_type": "markdown",
      "metadata": {
        "id": "CXpaHPtFiQEu"
      },
      "source": [
        "Target edycja 1 - znajdujemy oka zdrowe i cukrzyce\n",
        "\n",
        "Target edycja 2 - znajdujemy oka zdrowe i chore\n",
        "\n",
        "target edycja 3 - znajdujemy oka zdrowe cukrzyce i atrofie"
      ]
    },
    {
      "cell_type": "markdown",
      "metadata": {
        "id": "IpUHGntPi9io"
      },
      "source": [
        "target edycja 2 start"
      ]
    },
    {
      "cell_type": "code",
      "metadata": {
        "colab": {
          "base_uri": "https://localhost:8080/",
          "height": 214
        },
        "id": "KJ-KoqebjAQq",
        "outputId": "71282f99-9343-4ecf-acff-62a2646ca05e"
      },
      "source": [
        "#Wgranie danych\n",
        "target_dict = {}\n",
        "cukrzyca = ['proliferative diabetic retinopathy','severe nonproliferative retinopathy','mild nonproliferative retinopathy', 'moderate non proliferative retinopathy','severe proliferative diabetic retinopathy','suspected moderate non proliferative retinopathy','hypertensive retinopathy,diabetic retinopathy','diabetic retinopathy','suspected diabetic retinopathy','suspicious diabetic retinopathy']\n",
        "zdrowie = ['normal fundus']\n",
        "cukrzyca_zdjecia = []\n",
        "zdrowe_zdjecia = []\n",
        "for column in data:\n",
        "  print(column)"
      ],
      "execution_count": null,
      "outputs": [
        {
          "output_type": "error",
          "ename": "NameError",
          "evalue": "ignored",
          "traceback": [
            "\u001b[0;31m---------------------------------------------------------------------------\u001b[0m",
            "\u001b[0;31mNameError\u001b[0m                                 Traceback (most recent call last)",
            "\u001b[0;32m<ipython-input-21-bd85a87a6aee>\u001b[0m in \u001b[0;36m<module>\u001b[0;34m()\u001b[0m\n\u001b[1;32m      5\u001b[0m \u001b[0mcukrzyca_zdjecia\u001b[0m \u001b[0;34m=\u001b[0m \u001b[0;34m[\u001b[0m\u001b[0;34m]\u001b[0m\u001b[0;34m\u001b[0m\u001b[0;34m\u001b[0m\u001b[0m\n\u001b[1;32m      6\u001b[0m \u001b[0mzdrowe_zdjecia\u001b[0m \u001b[0;34m=\u001b[0m \u001b[0;34m[\u001b[0m\u001b[0;34m]\u001b[0m\u001b[0;34m\u001b[0m\u001b[0;34m\u001b[0m\u001b[0m\n\u001b[0;32m----> 7\u001b[0;31m \u001b[0;32mfor\u001b[0m \u001b[0mcolumn\u001b[0m \u001b[0;32min\u001b[0m \u001b[0mdata\u001b[0m\u001b[0;34m:\u001b[0m\u001b[0;34m\u001b[0m\u001b[0;34m\u001b[0m\u001b[0m\n\u001b[0m\u001b[1;32m      8\u001b[0m   \u001b[0mprint\u001b[0m\u001b[0;34m(\u001b[0m\u001b[0mcolumn\u001b[0m\u001b[0;34m)\u001b[0m\u001b[0;34m\u001b[0m\u001b[0;34m\u001b[0m\u001b[0m\n",
            "\u001b[0;31mNameError\u001b[0m: name 'data' is not defined"
          ]
        }
      ]
    },
    {
      "cell_type": "code",
      "metadata": {
        "id": "H19SYxbAjmvn"
      },
      "source": [
        "for record in data['Left-Diagnostic Keywords']:\n",
        "  diagnostic = record.split(\", \") # jest to lisa chorób tego oka\n",
        "  if diagnostic in cukrzyca:\n",
        "    cukrzyca_zdjecia.append()\n",
        "\n",
        "for record in range(0,len(data['Left-Diagnostic Keywords'])):\n",
        "  #lista chorób danego oka\n",
        "  diagnostic_left = data['Left-Diagnostic Keywords'][record].split(\", \")\n",
        "  diagnostic_right = data['Right-Diagnostic Keywords'][record].split(\", \")\n",
        "  for illnes in diagnostic_left:\n",
        "    if illnes in cukrzyca:\n",
        "      cukrzyca_zdjecia.append(data['Left-Fundus'][record])\n",
        "  for illnes in diagnostic_right:\n",
        "    if illnes in cukrzyca:\n",
        "      cukrzyca_zdjecia.append(data['Right-Fundus'][record])\n",
        "  for illnes in diagnostic_left:\n",
        "    if illnes in zdrowie:\n",
        "      zdrowe_zdjecia.append(data['Left-Fundus'][record])\n",
        "  for illnes in diagnostic_right:\n",
        "    if illnes in zdrowie:\n",
        "      zdrowe_zdjecia.append(data['Right-Fundus'][record])\n",
        "\n",
        "target_dict[0] = cukrzyca_zdjecia #cukrzyca\n",
        "target_dict[1] = zdrowe_zdjecia #zdrowe"
      ],
      "execution_count": null,
      "outputs": []
    },
    {
      "cell_type": "code",
      "metadata": {
        "id": "pni9XLsxyVXD"
      },
      "source": [
        "target_dict[0]"
      ],
      "execution_count": null,
      "outputs": []
    },
    {
      "cell_type": "markdown",
      "metadata": {
        "id": "0Bwe2iCr7szb"
      },
      "source": [
        "csv "
      ]
    },
    {
      "cell_type": "code",
      "metadata": {
        "id": "7TCrOHWq7uol"
      },
      "source": [
        "lista1 = []\n",
        "lista2 = []\n",
        "cukrzycaa = '0'\n",
        "zdrowee = '1'\n",
        "for i in cukrzyca_zdjecia:\n",
        "  lista1.append(cukrzycaa)\n",
        "for i in zdrowe_zdjecia:\n",
        "  lista1.append(zdrowee)\n",
        "datasss = {'filename': cukrzyca_zdjecia + zdrowe_zdjecia, 'choroba':lista1+lista2}\n",
        "dataframee = pd.DataFrame(datasss)"
      ],
      "execution_count": null,
      "outputs": []
    },
    {
      "cell_type": "code",
      "metadata": {
        "id": "NM1oeOXR-JjG"
      },
      "source": [
        "dataframee.to_csv('targets.csv')"
      ],
      "execution_count": null,
      "outputs": []
    },
    {
      "cell_type": "markdown",
      "metadata": {
        "id": "BMJx43mVjAxW"
      },
      "source": [
        "target edycja 2 - koniec"
      ]
    },
    {
      "cell_type": "code",
      "metadata": {
        "colab": {
          "base_uri": "https://localhost:8080/"
        },
        "id": "f4JwZhkdU1Zr",
        "outputId": "640778a1-d632-4fd8-a8bb-a1c51fd3dbd9"
      },
      "source": [
        "keywords_set = []\n",
        "for line in data['Left-Diagnostic Keywords']:\n",
        " l = line.split('，')\n",
        " for kw in l:\n",
        "   keywords_set.append(kw)\n",
        "for line in data['Right-Diagnostic Keywords']:\n",
        "  l = line.split('，')\n",
        "  for kw in l:\n",
        "    keywords_set.append(kw)\n",
        "# for letter in 'NDGCAHMO':\n",
        "  \n",
        "\n",
        "keywords_set = set(keywords_set)\n",
        "print(keywords_set)"
      ],
      "execution_count": null,
      "outputs": [
        {
          "output_type": "stream",
          "name": "stdout",
          "text": [
            "{'optic disc edema', 'macular hole', 'severe proliferative diabetic retinopathy', 'morning glory syndrome', 'suspected microvascular anomalies', 'intraretinal microvascular abnormality', 'low image quality,maculopathy', 'severe nonproliferative retinopathy', 'dry age-related macular degeneration', 'spotted membranous change', 'intraretinal hemorrhage', 'epiretinal membrane over the macula', 'fundus laser photocoagulation spots', 'chorioretinal atrophy', 'central retinal vein occlusion', 'retina fold', 'optic nerve atrophy', 'suspected glaucoma', 'mild nonproliferative retinopathy', 'central serous chorioretinopathy', 'hypertensive retinopathy', 'white vessel', 'hypertensive retinopathy,diabetic retinopathy', 'macular epiretinal membrane', 'suspected moderate non proliferative retinopathy', 'vitreous degeneration', 'oval yellow-white atrophy', 'myelinated nerve fibers', 'diffuse retinal atrophy', 'suspected abnormal color of  optic disc', 'suspicious diabetic retinopathy', 'branch retinal vein occlusion', 'retinal vascular sheathing', 'choroidal nevus', 'macular pigmentation disorder', 'old chorioretinopathy', 'vitreous opacity', 'suspected diabetic retinopathy', 'post retinal laser surgery', 'congenital choroidal coloboma', 'pigment epithelium proliferation', 'arteriosclerosis', 'wedge white line change', 'optic disk photographically invisible', 'chorioretinal atrophy with pigmentation proliferation', 'suspected retinal vascular sheathing', 'lens dust', 'retinal pigmentation', 'no fundus image', 'glial remnants anterior to the optic disc', 'depigmentation of the retinal pigment epithelium', 'macular coloboma', 'peripapillary atrophy', 'maculopathy', 'retinal detachment', 'moderate non proliferative retinopathy', 'tessellated fundus', 'cataract', 'optic discitis', 'atrophy', 'old choroiditis', 'vessel tortuosity', 'normal fundus', 'suspected cataract', 'wet age-related macular degeneration', 'optic disk epiretinal membrane', 'image offset', 'silicone oil eye', 'atrophic change', 'retinal pigment epithelial hypertrophy', 'proliferative diabetic retinopathy', 'idiopathic choroidal neovascularization', 'myopia retinopathy', 'refractive media opacity', 'retinitis pigmentosa', 'old central retinal vein occlusion', 'central retinal artery occlusion', 'low image quality', 'diabetic retinopathy', 'drusen', 'retinal pigment epithelium atrophy', 'post laser photocoagulation', 'retinochoroidal coloboma', 'epiretinal membrane', 'pathological myopia', 'old branch retinal vein occlusion', 'laser spot', 'glaucoma', 'diffuse chorioretinal atrophy', 'anterior segment image', 'pigmentation disorder', 'myopic maculopathy', 'branch retinal artery occlusion', 'age-related macular degeneration', 'abnormal pigment ', 'suspected macular epimacular membrane'}\n"
          ]
        }
      ]
    },
    {
      "cell_type": "code",
      "metadata": {
        "id": "ucvb8jw0Wo-Z"
      },
      "source": [
        "eye_dict = {}\n",
        "for keyword in keywords_set:\n",
        "  eye_dict[keyword] = []"
      ],
      "execution_count": null,
      "outputs": []
    },
    {
      "cell_type": "code",
      "metadata": {
        "id": "dB6XeF4yXQJr",
        "colab": {
          "base_uri": "https://localhost:8080/",
          "height": 423
        },
        "outputId": "90b7f43b-ef54-423f-963a-3205ebc1d11c"
      },
      "source": [
        "for index, row in data.iterrows():\n",
        "  lf, ldk, rf, rdk = row['Left-Fundus'], row['Left-Diagnostic Keywords'], row['Right-Fundus'], row['Right-Diagnostic Keywords']\n",
        "  for condition in ldk.split('，'):\n",
        "    eye_dict[condition].append(lf)\n",
        "  for condition in rdk.split('，'):\n",
        "    eye_dict[condition].append(rf)\n",
        "\n",
        "del eye_dict['lens dust']"
      ],
      "execution_count": null,
      "outputs": [
        {
          "output_type": "error",
          "ename": "KeyboardInterrupt",
          "evalue": "ignored",
          "traceback": [
            "\u001b[0;31m---------------------------------------------------------------------------\u001b[0m",
            "\u001b[0;31mKeyboardInterrupt\u001b[0m                         Traceback (most recent call last)",
            "\u001b[0;32m<ipython-input-62-634581e62c30>\u001b[0m in \u001b[0;36m<module>\u001b[0;34m()\u001b[0m\n\u001b[0;32m----> 1\u001b[0;31m \u001b[0;32mfor\u001b[0m \u001b[0mindex\u001b[0m\u001b[0;34m,\u001b[0m \u001b[0mrow\u001b[0m \u001b[0;32min\u001b[0m \u001b[0mdata\u001b[0m\u001b[0;34m.\u001b[0m\u001b[0miterrows\u001b[0m\u001b[0;34m(\u001b[0m\u001b[0;34m)\u001b[0m\u001b[0;34m:\u001b[0m\u001b[0;34m\u001b[0m\u001b[0;34m\u001b[0m\u001b[0m\n\u001b[0m\u001b[1;32m      2\u001b[0m   \u001b[0mlf\u001b[0m\u001b[0;34m,\u001b[0m \u001b[0mldk\u001b[0m\u001b[0;34m,\u001b[0m \u001b[0mrf\u001b[0m\u001b[0;34m,\u001b[0m \u001b[0mrdk\u001b[0m \u001b[0;34m=\u001b[0m \u001b[0mrow\u001b[0m\u001b[0;34m[\u001b[0m\u001b[0;34m'Left-Fundus'\u001b[0m\u001b[0;34m]\u001b[0m\u001b[0;34m,\u001b[0m \u001b[0mrow\u001b[0m\u001b[0;34m[\u001b[0m\u001b[0;34m'Left-Diagnostic Keywords'\u001b[0m\u001b[0;34m]\u001b[0m\u001b[0;34m,\u001b[0m \u001b[0mrow\u001b[0m\u001b[0;34m[\u001b[0m\u001b[0;34m'Right-Fundus'\u001b[0m\u001b[0;34m]\u001b[0m\u001b[0;34m,\u001b[0m \u001b[0mrow\u001b[0m\u001b[0;34m[\u001b[0m\u001b[0;34m'Right-Diagnostic Keywords'\u001b[0m\u001b[0;34m]\u001b[0m\u001b[0;34m\u001b[0m\u001b[0;34m\u001b[0m\u001b[0m\n\u001b[1;32m      3\u001b[0m   \u001b[0;32mfor\u001b[0m \u001b[0mcondition\u001b[0m \u001b[0;32min\u001b[0m \u001b[0mldk\u001b[0m\u001b[0;34m.\u001b[0m\u001b[0msplit\u001b[0m\u001b[0;34m(\u001b[0m\u001b[0;34m'，'\u001b[0m\u001b[0;34m)\u001b[0m\u001b[0;34m:\u001b[0m\u001b[0;34m\u001b[0m\u001b[0;34m\u001b[0m\u001b[0m\n\u001b[1;32m      4\u001b[0m     \u001b[0meye_dict\u001b[0m\u001b[0;34m[\u001b[0m\u001b[0mcondition\u001b[0m\u001b[0;34m]\u001b[0m\u001b[0;34m.\u001b[0m\u001b[0mappend\u001b[0m\u001b[0;34m(\u001b[0m\u001b[0mlf\u001b[0m\u001b[0;34m)\u001b[0m\u001b[0;34m\u001b[0m\u001b[0;34m\u001b[0m\u001b[0m\n\u001b[1;32m      5\u001b[0m   \u001b[0;32mfor\u001b[0m \u001b[0mcondition\u001b[0m \u001b[0;32min\u001b[0m \u001b[0mrdk\u001b[0m\u001b[0;34m.\u001b[0m\u001b[0msplit\u001b[0m\u001b[0;34m(\u001b[0m\u001b[0;34m'，'\u001b[0m\u001b[0;34m)\u001b[0m\u001b[0;34m:\u001b[0m\u001b[0;34m\u001b[0m\u001b[0;34m\u001b[0m\u001b[0m\n",
            "\u001b[0;32m/usr/local/lib/python3.7/dist-packages/pandas/core/frame.py\u001b[0m in \u001b[0;36miterrows\u001b[0;34m(self)\u001b[0m\n\u001b[1;32m   1012\u001b[0m         \u001b[0mklass\u001b[0m \u001b[0;34m=\u001b[0m \u001b[0mself\u001b[0m\u001b[0;34m.\u001b[0m\u001b[0m_constructor_sliced\u001b[0m\u001b[0;34m\u001b[0m\u001b[0;34m\u001b[0m\u001b[0m\n\u001b[1;32m   1013\u001b[0m         \u001b[0;32mfor\u001b[0m \u001b[0mk\u001b[0m\u001b[0;34m,\u001b[0m \u001b[0mv\u001b[0m \u001b[0;32min\u001b[0m \u001b[0mzip\u001b[0m\u001b[0;34m(\u001b[0m\u001b[0mself\u001b[0m\u001b[0;34m.\u001b[0m\u001b[0mindex\u001b[0m\u001b[0;34m,\u001b[0m \u001b[0mself\u001b[0m\u001b[0;34m.\u001b[0m\u001b[0mvalues\u001b[0m\u001b[0;34m)\u001b[0m\u001b[0;34m:\u001b[0m\u001b[0;34m\u001b[0m\u001b[0;34m\u001b[0m\u001b[0m\n\u001b[0;32m-> 1014\u001b[0;31m             \u001b[0ms\u001b[0m \u001b[0;34m=\u001b[0m \u001b[0mklass\u001b[0m\u001b[0;34m(\u001b[0m\u001b[0mv\u001b[0m\u001b[0;34m,\u001b[0m \u001b[0mindex\u001b[0m\u001b[0;34m=\u001b[0m\u001b[0mcolumns\u001b[0m\u001b[0;34m,\u001b[0m \u001b[0mname\u001b[0m\u001b[0;34m=\u001b[0m\u001b[0mk\u001b[0m\u001b[0;34m)\u001b[0m\u001b[0;34m\u001b[0m\u001b[0;34m\u001b[0m\u001b[0m\n\u001b[0m\u001b[1;32m   1015\u001b[0m             \u001b[0;32myield\u001b[0m \u001b[0mk\u001b[0m\u001b[0;34m,\u001b[0m \u001b[0ms\u001b[0m\u001b[0;34m\u001b[0m\u001b[0;34m\u001b[0m\u001b[0m\n\u001b[1;32m   1016\u001b[0m \u001b[0;34m\u001b[0m\u001b[0m\n",
            "\u001b[0;32m/usr/local/lib/python3.7/dist-packages/pandas/core/series.py\u001b[0m in \u001b[0;36m__init__\u001b[0;34m(self, data, index, dtype, name, copy, fastpath)\u001b[0m\n\u001b[1;32m    327\u001b[0m                 \u001b[0mdata\u001b[0m \u001b[0;34m=\u001b[0m \u001b[0msanitize_array\u001b[0m\u001b[0;34m(\u001b[0m\u001b[0mdata\u001b[0m\u001b[0;34m,\u001b[0m \u001b[0mindex\u001b[0m\u001b[0;34m,\u001b[0m \u001b[0mdtype\u001b[0m\u001b[0;34m,\u001b[0m \u001b[0mcopy\u001b[0m\u001b[0;34m,\u001b[0m \u001b[0mraise_cast_failure\u001b[0m\u001b[0;34m=\u001b[0m\u001b[0;32mTrue\u001b[0m\u001b[0;34m)\u001b[0m\u001b[0;34m\u001b[0m\u001b[0;34m\u001b[0m\u001b[0m\n\u001b[1;32m    328\u001b[0m \u001b[0;34m\u001b[0m\u001b[0m\n\u001b[0;32m--> 329\u001b[0;31m                 \u001b[0mdata\u001b[0m \u001b[0;34m=\u001b[0m \u001b[0mSingleBlockManager\u001b[0m\u001b[0;34m.\u001b[0m\u001b[0mfrom_array\u001b[0m\u001b[0;34m(\u001b[0m\u001b[0mdata\u001b[0m\u001b[0;34m,\u001b[0m \u001b[0mindex\u001b[0m\u001b[0;34m)\u001b[0m\u001b[0;34m\u001b[0m\u001b[0;34m\u001b[0m\u001b[0m\n\u001b[0m\u001b[1;32m    330\u001b[0m \u001b[0;34m\u001b[0m\u001b[0m\n\u001b[1;32m    331\u001b[0m         \u001b[0mgeneric\u001b[0m\u001b[0;34m.\u001b[0m\u001b[0mNDFrame\u001b[0m\u001b[0;34m.\u001b[0m\u001b[0m__init__\u001b[0m\u001b[0;34m(\u001b[0m\u001b[0mself\u001b[0m\u001b[0;34m,\u001b[0m \u001b[0mdata\u001b[0m\u001b[0;34m)\u001b[0m\u001b[0;34m\u001b[0m\u001b[0;34m\u001b[0m\u001b[0m\n",
            "\u001b[0;32m/usr/local/lib/python3.7/dist-packages/pandas/core/internals/managers.py\u001b[0m in \u001b[0;36mfrom_array\u001b[0;34m(cls, array, index)\u001b[0m\n\u001b[1;32m   1576\u001b[0m         \u001b[0mConstructor\u001b[0m \u001b[0;32mfor\u001b[0m \u001b[0;32mif\u001b[0m \u001b[0mwe\u001b[0m \u001b[0mhave\u001b[0m \u001b[0man\u001b[0m \u001b[0marray\u001b[0m \u001b[0mthat\u001b[0m \u001b[0;32mis\u001b[0m \u001b[0;32mnot\u001b[0m \u001b[0myet\u001b[0m \u001b[0ma\u001b[0m \u001b[0mBlock\u001b[0m\u001b[0;34m.\u001b[0m\u001b[0;34m\u001b[0m\u001b[0;34m\u001b[0m\u001b[0m\n\u001b[1;32m   1577\u001b[0m         \"\"\"\n\u001b[0;32m-> 1578\u001b[0;31m         \u001b[0mblock\u001b[0m \u001b[0;34m=\u001b[0m \u001b[0mmake_block\u001b[0m\u001b[0;34m(\u001b[0m\u001b[0marray\u001b[0m\u001b[0;34m,\u001b[0m \u001b[0mplacement\u001b[0m\u001b[0;34m=\u001b[0m\u001b[0mslice\u001b[0m\u001b[0;34m(\u001b[0m\u001b[0;36m0\u001b[0m\u001b[0;34m,\u001b[0m \u001b[0mlen\u001b[0m\u001b[0;34m(\u001b[0m\u001b[0mindex\u001b[0m\u001b[0;34m)\u001b[0m\u001b[0;34m)\u001b[0m\u001b[0;34m,\u001b[0m \u001b[0mndim\u001b[0m\u001b[0;34m=\u001b[0m\u001b[0;36m1\u001b[0m\u001b[0;34m)\u001b[0m\u001b[0;34m\u001b[0m\u001b[0;34m\u001b[0m\u001b[0m\n\u001b[0m\u001b[1;32m   1579\u001b[0m         \u001b[0;32mreturn\u001b[0m \u001b[0mcls\u001b[0m\u001b[0;34m(\u001b[0m\u001b[0mblock\u001b[0m\u001b[0;34m,\u001b[0m \u001b[0mindex\u001b[0m\u001b[0;34m)\u001b[0m\u001b[0;34m\u001b[0m\u001b[0;34m\u001b[0m\u001b[0m\n\u001b[1;32m   1580\u001b[0m \u001b[0;34m\u001b[0m\u001b[0m\n",
            "\u001b[0;32m/usr/local/lib/python3.7/dist-packages/pandas/core/internals/blocks.py\u001b[0m in \u001b[0;36mmake_block\u001b[0;34m(values, placement, klass, ndim, dtype)\u001b[0m\n\u001b[1;32m   2735\u001b[0m     \u001b[0;32mif\u001b[0m \u001b[0mklass\u001b[0m \u001b[0;32mis\u001b[0m \u001b[0;32mNone\u001b[0m\u001b[0;34m:\u001b[0m\u001b[0;34m\u001b[0m\u001b[0;34m\u001b[0m\u001b[0m\n\u001b[1;32m   2736\u001b[0m         \u001b[0mdtype\u001b[0m \u001b[0;34m=\u001b[0m \u001b[0mdtype\u001b[0m \u001b[0;32mor\u001b[0m \u001b[0mvalues\u001b[0m\u001b[0;34m.\u001b[0m\u001b[0mdtype\u001b[0m\u001b[0;34m\u001b[0m\u001b[0;34m\u001b[0m\u001b[0m\n\u001b[0;32m-> 2737\u001b[0;31m         \u001b[0mklass\u001b[0m \u001b[0;34m=\u001b[0m \u001b[0mget_block_type\u001b[0m\u001b[0;34m(\u001b[0m\u001b[0mvalues\u001b[0m\u001b[0;34m,\u001b[0m \u001b[0mdtype\u001b[0m\u001b[0;34m)\u001b[0m\u001b[0;34m\u001b[0m\u001b[0;34m\u001b[0m\u001b[0m\n\u001b[0m\u001b[1;32m   2738\u001b[0m \u001b[0;34m\u001b[0m\u001b[0m\n\u001b[1;32m   2739\u001b[0m     \u001b[0;32melif\u001b[0m \u001b[0mklass\u001b[0m \u001b[0;32mis\u001b[0m \u001b[0mDatetimeTZBlock\u001b[0m \u001b[0;32mand\u001b[0m \u001b[0;32mnot\u001b[0m \u001b[0mis_datetime64tz_dtype\u001b[0m\u001b[0;34m(\u001b[0m\u001b[0mvalues\u001b[0m\u001b[0;34m.\u001b[0m\u001b[0mdtype\u001b[0m\u001b[0;34m)\u001b[0m\u001b[0;34m:\u001b[0m\u001b[0;34m\u001b[0m\u001b[0;34m\u001b[0m\u001b[0m\n",
            "\u001b[0;32m/usr/local/lib/python3.7/dist-packages/pandas/core/internals/blocks.py\u001b[0m in \u001b[0;36mget_block_type\u001b[0;34m(values, dtype)\u001b[0m\n\u001b[1;32m   2694\u001b[0m         \u001b[0;31m# Need this first(ish) so that Sparse[datetime] is sparse\u001b[0m\u001b[0;34m\u001b[0m\u001b[0;34m\u001b[0m\u001b[0;34m\u001b[0m\u001b[0m\n\u001b[1;32m   2695\u001b[0m         \u001b[0mcls\u001b[0m \u001b[0;34m=\u001b[0m \u001b[0mExtensionBlock\u001b[0m\u001b[0;34m\u001b[0m\u001b[0;34m\u001b[0m\u001b[0m\n\u001b[0;32m-> 2696\u001b[0;31m     \u001b[0;32melif\u001b[0m \u001b[0mis_categorical_dtype\u001b[0m\u001b[0;34m(\u001b[0m\u001b[0mvalues\u001b[0m\u001b[0;34m.\u001b[0m\u001b[0mdtype\u001b[0m\u001b[0;34m)\u001b[0m\u001b[0;34m:\u001b[0m\u001b[0;34m\u001b[0m\u001b[0;34m\u001b[0m\u001b[0m\n\u001b[0m\u001b[1;32m   2697\u001b[0m         \u001b[0mcls\u001b[0m \u001b[0;34m=\u001b[0m \u001b[0mCategoricalBlock\u001b[0m\u001b[0;34m\u001b[0m\u001b[0;34m\u001b[0m\u001b[0m\n\u001b[1;32m   2698\u001b[0m     \u001b[0;32melif\u001b[0m \u001b[0missubclass\u001b[0m\u001b[0;34m(\u001b[0m\u001b[0mvtype\u001b[0m\u001b[0;34m,\u001b[0m \u001b[0mnp\u001b[0m\u001b[0;34m.\u001b[0m\u001b[0mdatetime64\u001b[0m\u001b[0;34m)\u001b[0m\u001b[0;34m:\u001b[0m\u001b[0;34m\u001b[0m\u001b[0;34m\u001b[0m\u001b[0m\n",
            "\u001b[0;32m/usr/local/lib/python3.7/dist-packages/pandas/core/dtypes/common.py\u001b[0m in \u001b[0;36mis_categorical_dtype\u001b[0;34m(arr_or_dtype)\u001b[0m\n\u001b[1;32m    528\u001b[0m \u001b[0;34m\u001b[0m\u001b[0m\n\u001b[1;32m    529\u001b[0m \u001b[0;34m\u001b[0m\u001b[0m\n\u001b[0;32m--> 530\u001b[0;31m \u001b[0;32mdef\u001b[0m \u001b[0mis_categorical_dtype\u001b[0m\u001b[0;34m(\u001b[0m\u001b[0marr_or_dtype\u001b[0m\u001b[0;34m)\u001b[0m \u001b[0;34m->\u001b[0m \u001b[0mbool\u001b[0m\u001b[0;34m:\u001b[0m\u001b[0;34m\u001b[0m\u001b[0;34m\u001b[0m\u001b[0m\n\u001b[0m\u001b[1;32m    531\u001b[0m     \"\"\"\n\u001b[1;32m    532\u001b[0m     \u001b[0mCheck\u001b[0m \u001b[0mwhether\u001b[0m \u001b[0man\u001b[0m \u001b[0marray\u001b[0m\u001b[0;34m-\u001b[0m\u001b[0mlike\u001b[0m \u001b[0;32mor\u001b[0m \u001b[0mdtype\u001b[0m \u001b[0;32mis\u001b[0m \u001b[0mof\u001b[0m \u001b[0mthe\u001b[0m \u001b[0mCategorical\u001b[0m \u001b[0mdtype\u001b[0m\u001b[0;34m.\u001b[0m\u001b[0;34m\u001b[0m\u001b[0;34m\u001b[0m\u001b[0m\n",
            "\u001b[0;31mKeyboardInterrupt\u001b[0m: "
          ]
        }
      ]
    },
    {
      "cell_type": "code",
      "metadata": {
        "id": "xBRTKQyqkEqi"
      },
      "source": [
        "for condition in eye_dict:\n",
        "  for picture in eye_dict[condition]:\n",
        "    print(condition, os.path.join(path_file,picture))"
      ],
      "execution_count": null,
      "outputs": []
    },
    {
      "cell_type": "code",
      "metadata": {
        "id": "GLj81e9urB0Z"
      },
      "source": [
        "print(len(eye_dict))\n",
        "for con in eye_dict:\n",
        "  print(con, len(eye_dict[con]))"
      ],
      "execution_count": null,
      "outputs": []
    },
    {
      "cell_type": "code",
      "metadata": {
        "id": "gPjIDd6crvE2"
      },
      "source": [
        ""
      ],
      "execution_count": null,
      "outputs": []
    },
    {
      "cell_type": "markdown",
      "metadata": {
        "id": "NTm17RbZ7KDX"
      },
      "source": [
        "Tworzenie targetów:"
      ]
    },
    {
      "cell_type": "code",
      "metadata": {
        "id": "aVyLizmYX8hM"
      },
      "source": [
        "#Druga wersja z nowym data frame\n",
        "label1 = []\n",
        "label2 = []\n",
        "diction = {0:'N',1:'D',2:'G',3:'C',4:'A',5:'H',6:'M',7:'O'}\n",
        "\n",
        "\n",
        "filename2 = []\n",
        "for line in range(6392):\n",
        "  new_target = [0]*8\n",
        "  #Take another eye for new target\n",
        "  if data.at[line,'filename'] == data.at[line,'Left-Fundus']:\n",
        "    filename2.append(data.at[line,'Right-Fundus'])\n",
        "  else:\n",
        "    filename2.append(data.at[line,'Left-Fundus'])\n",
        "\n",
        "#Create target for eye in collumn filename\n",
        "for target in data['target']:\n",
        "  target = target[1:len(target)-1].split(\", \").index(\"1\")\n",
        "  label1.append(target)\n",
        "\n",
        "for line in range(6392):\n",
        "  #For easier if:\n",
        "  N = data.at[line,'N']\n",
        "  D = data.at[line,'D']\n",
        "  G = data.at[line,'G']\n",
        "  C = data.at[line,'C']\n",
        "  A = data.at[line,'A']\n",
        "  H = data.at[line,'H']\n",
        "  M = data.at[line,'M']\n",
        "  O = data.at[line,'O']\n",
        "  #Create new target for eye without it\n",
        "  #Here if I have [N,D,G,C,A,H,M,O] like this [ 1,1,0,0,0,0] and target like this [1,0,0,0,0,0] i want to have something \"oposite\" to target -> [0,1,0,0,0,0]\n",
        "  if N+D+G+C+A+H+M+O == 2:\n",
        "    lista = [N,D,G,C,A,H,M,O]\n",
        "    index2 = lista.index(1)\n",
        "    if label1[line] == index2:\n",
        "      lista[index2] = 0\n",
        "      index2 = lista.index(1)\n",
        "  else:\n",
        "    index2 = 0\n",
        "  label2.append(index2)\n",
        "# Here I try to make new data frame with 2 columns eye_name and target \n",
        "lista = []\n",
        "for i in data['filename']:\n",
        "  lista.append(i)\n",
        "for i in filename2:\n",
        "  lista.append(i)\n",
        "datas = {'filename': lista, 'choroba': label1 +label2}\n",
        "dataframee = pd.DataFrame(datas)"
      ],
      "execution_count": null,
      "outputs": []
    },
    {
      "cell_type": "code",
      "metadata": {
        "colab": {
          "base_uri": "https://localhost:8080/",
          "height": 168
        },
        "id": "Sn0cOaJz6rTC",
        "outputId": "b47d9bcf-d997-4a7b-f025-a409251b683c"
      },
      "source": [
        "dataframee"
      ],
      "execution_count": null,
      "outputs": [
        {
          "output_type": "error",
          "ename": "NameError",
          "evalue": "ignored",
          "traceback": [
            "\u001b[0;31m---------------------------------------------------------------------------\u001b[0m",
            "\u001b[0;31mNameError\u001b[0m                                 Traceback (most recent call last)",
            "\u001b[0;32m<ipython-input-69-77158a1df962>\u001b[0m in \u001b[0;36m<module>\u001b[0;34m()\u001b[0m\n\u001b[0;32m----> 1\u001b[0;31m \u001b[0mdataframee\u001b[0m\u001b[0;34m\u001b[0m\u001b[0;34m\u001b[0m\u001b[0m\n\u001b[0m",
            "\u001b[0;31mNameError\u001b[0m: name 'dataframee' is not defined"
          ]
        }
      ]
    },
    {
      "cell_type": "markdown",
      "metadata": {
        "id": "PMMsgi7F_JFU"
      },
      "source": [
        "# data loader wersja 4 - podmieniony plik csv"
      ]
    },
    {
      "cell_type": "code",
      "metadata": {
        "id": "xKPpRfwO_N0d"
      },
      "source": [
        "import torch\n",
        "import torchvision\n",
        "import pandas as pd\n",
        "import torchvision.transforms.functional as TF\n",
        "from torch.utils.data import Dataset, DataLoader\n",
        "from collections import Counter\n",
        "from PIL import Image\n",
        "\n",
        "\n",
        "device = torch.device(\"cuda:0\")\n",
        "\n",
        "class ImagesData(Dataset):\n",
        "  \n",
        "    def __init__(self, path_dir):\n",
        "        path_file = './targets.csv'\n",
        "        data =  pd.read_csv(path_file)\n",
        "\n",
        "        self.paths = data['filename'].apply(lambda file_name: path_dir + '/' + file_name )\n",
        "\n",
        "        self.labels = []\n",
        "        for target in data['choroba']:\n",
        "          # target = target[1:len(target)-1].split(\", \").index(\"1\")\n",
        "          self.labels.append(target)\n",
        "\n",
        "        self.length = len(self.labels)\n",
        "        self.count_labels = Counter(self.labels)\n",
        "\n",
        "        self.preprocess_pipe = torchvision.transforms.Compose([\n",
        "        torchvision.transforms.Resize((224, 224)),\n",
        "        torchvision.transforms.ToTensor(),\n",
        "        torchvision.transforms.Normalize(mean=[0.485, 0.456, 0.406], std=[0.229, 0.224, 0.225])])\n",
        "\n",
        "    def __len__(self):\n",
        "        return self.length\n",
        "    \n",
        "    def __getitem__(self, index):\n",
        "        image = self.preprocess_pipe(Image.open(self.paths[index]))\n",
        "        return [image,self.labels[index]] "
      ],
      "execution_count": null,
      "outputs": []
    },
    {
      "cell_type": "code",
      "metadata": {
        "colab": {
          "base_uri": "https://localhost:8080/",
          "height": 408
        },
        "id": "La9e6nMp_d1n",
        "outputId": "b5528575-3569-4631-cacb-2cdf76b7c841"
      },
      "source": [
        "dataset = ImagesData('./Resize_image/')\n",
        "data_loader = DataLoader(dataset,batch_size = 4,shuffle = True, num_workers= 1, pin_memory= True)\n",
        "print(dataset.count_labels)"
      ],
      "execution_count": null,
      "outputs": [
        {
          "output_type": "error",
          "ename": "FileNotFoundError",
          "evalue": "ignored",
          "traceback": [
            "\u001b[0;31m---------------------------------------------------------------------------\u001b[0m",
            "\u001b[0;31mFileNotFoundError\u001b[0m                         Traceback (most recent call last)",
            "\u001b[0;32m<ipython-input-8-59b5a3098cfc>\u001b[0m in \u001b[0;36m<module>\u001b[0;34m()\u001b[0m\n\u001b[0;32m----> 1\u001b[0;31m \u001b[0mdataset\u001b[0m \u001b[0;34m=\u001b[0m \u001b[0mImagesData\u001b[0m\u001b[0;34m(\u001b[0m\u001b[0;34m'./Resize_image/'\u001b[0m\u001b[0;34m)\u001b[0m\u001b[0;34m\u001b[0m\u001b[0;34m\u001b[0m\u001b[0m\n\u001b[0m\u001b[1;32m      2\u001b[0m \u001b[0mdata_loader\u001b[0m \u001b[0;34m=\u001b[0m \u001b[0mDataLoader\u001b[0m\u001b[0;34m(\u001b[0m\u001b[0mdataset\u001b[0m\u001b[0;34m,\u001b[0m\u001b[0mbatch_size\u001b[0m \u001b[0;34m=\u001b[0m \u001b[0;36m4\u001b[0m\u001b[0;34m,\u001b[0m\u001b[0mshuffle\u001b[0m \u001b[0;34m=\u001b[0m \u001b[0;32mTrue\u001b[0m\u001b[0;34m,\u001b[0m \u001b[0mnum_workers\u001b[0m\u001b[0;34m=\u001b[0m \u001b[0;36m1\u001b[0m\u001b[0;34m,\u001b[0m \u001b[0mpin_memory\u001b[0m\u001b[0;34m=\u001b[0m \u001b[0;32mTrue\u001b[0m\u001b[0;34m)\u001b[0m\u001b[0;34m\u001b[0m\u001b[0;34m\u001b[0m\u001b[0m\n\u001b[1;32m      3\u001b[0m \u001b[0mprint\u001b[0m\u001b[0;34m(\u001b[0m\u001b[0mdataset\u001b[0m\u001b[0;34m.\u001b[0m\u001b[0mcount_labels\u001b[0m\u001b[0;34m)\u001b[0m\u001b[0;34m\u001b[0m\u001b[0;34m\u001b[0m\u001b[0m\n",
            "\u001b[0;32m<ipython-input-7-42e1b186b425>\u001b[0m in \u001b[0;36m__init__\u001b[0;34m(self, path_dir)\u001b[0m\n\u001b[1;32m     14\u001b[0m     \u001b[0;32mdef\u001b[0m \u001b[0m__init__\u001b[0m\u001b[0;34m(\u001b[0m\u001b[0mself\u001b[0m\u001b[0;34m,\u001b[0m \u001b[0mpath_dir\u001b[0m\u001b[0;34m)\u001b[0m\u001b[0;34m:\u001b[0m\u001b[0;34m\u001b[0m\u001b[0;34m\u001b[0m\u001b[0m\n\u001b[1;32m     15\u001b[0m         \u001b[0mpath_file\u001b[0m \u001b[0;34m=\u001b[0m \u001b[0;34m'./targets.csv'\u001b[0m\u001b[0;34m\u001b[0m\u001b[0;34m\u001b[0m\u001b[0m\n\u001b[0;32m---> 16\u001b[0;31m         \u001b[0mdata\u001b[0m \u001b[0;34m=\u001b[0m  \u001b[0mpd\u001b[0m\u001b[0;34m.\u001b[0m\u001b[0mread_csv\u001b[0m\u001b[0;34m(\u001b[0m\u001b[0mpath_file\u001b[0m\u001b[0;34m)\u001b[0m\u001b[0;34m\u001b[0m\u001b[0;34m\u001b[0m\u001b[0m\n\u001b[0m\u001b[1;32m     17\u001b[0m \u001b[0;34m\u001b[0m\u001b[0m\n\u001b[1;32m     18\u001b[0m         \u001b[0mself\u001b[0m\u001b[0;34m.\u001b[0m\u001b[0mpaths\u001b[0m \u001b[0;34m=\u001b[0m \u001b[0mdata\u001b[0m\u001b[0;34m[\u001b[0m\u001b[0;34m'filename'\u001b[0m\u001b[0;34m]\u001b[0m\u001b[0;34m.\u001b[0m\u001b[0mapply\u001b[0m\u001b[0;34m(\u001b[0m\u001b[0;32mlambda\u001b[0m \u001b[0mfile_name\u001b[0m\u001b[0;34m:\u001b[0m \u001b[0mpath_dir\u001b[0m \u001b[0;34m+\u001b[0m \u001b[0;34m'/'\u001b[0m \u001b[0;34m+\u001b[0m \u001b[0mfile_name\u001b[0m \u001b[0;34m)\u001b[0m\u001b[0;34m\u001b[0m\u001b[0;34m\u001b[0m\u001b[0m\n",
            "\u001b[0;32m/usr/local/lib/python3.7/dist-packages/pandas/io/parsers.py\u001b[0m in \u001b[0;36mread_csv\u001b[0;34m(filepath_or_buffer, sep, delimiter, header, names, index_col, usecols, squeeze, prefix, mangle_dupe_cols, dtype, engine, converters, true_values, false_values, skipinitialspace, skiprows, skipfooter, nrows, na_values, keep_default_na, na_filter, verbose, skip_blank_lines, parse_dates, infer_datetime_format, keep_date_col, date_parser, dayfirst, cache_dates, iterator, chunksize, compression, thousands, decimal, lineterminator, quotechar, quoting, doublequote, escapechar, comment, encoding, dialect, error_bad_lines, warn_bad_lines, delim_whitespace, low_memory, memory_map, float_precision)\u001b[0m\n\u001b[1;32m    686\u001b[0m     )\n\u001b[1;32m    687\u001b[0m \u001b[0;34m\u001b[0m\u001b[0m\n\u001b[0;32m--> 688\u001b[0;31m     \u001b[0;32mreturn\u001b[0m \u001b[0m_read\u001b[0m\u001b[0;34m(\u001b[0m\u001b[0mfilepath_or_buffer\u001b[0m\u001b[0;34m,\u001b[0m \u001b[0mkwds\u001b[0m\u001b[0;34m)\u001b[0m\u001b[0;34m\u001b[0m\u001b[0;34m\u001b[0m\u001b[0m\n\u001b[0m\u001b[1;32m    689\u001b[0m \u001b[0;34m\u001b[0m\u001b[0m\n\u001b[1;32m    690\u001b[0m \u001b[0;34m\u001b[0m\u001b[0m\n",
            "\u001b[0;32m/usr/local/lib/python3.7/dist-packages/pandas/io/parsers.py\u001b[0m in \u001b[0;36m_read\u001b[0;34m(filepath_or_buffer, kwds)\u001b[0m\n\u001b[1;32m    452\u001b[0m \u001b[0;34m\u001b[0m\u001b[0m\n\u001b[1;32m    453\u001b[0m     \u001b[0;31m# Create the parser.\u001b[0m\u001b[0;34m\u001b[0m\u001b[0;34m\u001b[0m\u001b[0;34m\u001b[0m\u001b[0m\n\u001b[0;32m--> 454\u001b[0;31m     \u001b[0mparser\u001b[0m \u001b[0;34m=\u001b[0m \u001b[0mTextFileReader\u001b[0m\u001b[0;34m(\u001b[0m\u001b[0mfp_or_buf\u001b[0m\u001b[0;34m,\u001b[0m \u001b[0;34m**\u001b[0m\u001b[0mkwds\u001b[0m\u001b[0;34m)\u001b[0m\u001b[0;34m\u001b[0m\u001b[0;34m\u001b[0m\u001b[0m\n\u001b[0m\u001b[1;32m    455\u001b[0m \u001b[0;34m\u001b[0m\u001b[0m\n\u001b[1;32m    456\u001b[0m     \u001b[0;32mif\u001b[0m \u001b[0mchunksize\u001b[0m \u001b[0;32mor\u001b[0m \u001b[0miterator\u001b[0m\u001b[0;34m:\u001b[0m\u001b[0;34m\u001b[0m\u001b[0;34m\u001b[0m\u001b[0m\n",
            "\u001b[0;32m/usr/local/lib/python3.7/dist-packages/pandas/io/parsers.py\u001b[0m in \u001b[0;36m__init__\u001b[0;34m(self, f, engine, **kwds)\u001b[0m\n\u001b[1;32m    946\u001b[0m             \u001b[0mself\u001b[0m\u001b[0;34m.\u001b[0m\u001b[0moptions\u001b[0m\u001b[0;34m[\u001b[0m\u001b[0;34m\"has_index_names\"\u001b[0m\u001b[0;34m]\u001b[0m \u001b[0;34m=\u001b[0m \u001b[0mkwds\u001b[0m\u001b[0;34m[\u001b[0m\u001b[0;34m\"has_index_names\"\u001b[0m\u001b[0;34m]\u001b[0m\u001b[0;34m\u001b[0m\u001b[0;34m\u001b[0m\u001b[0m\n\u001b[1;32m    947\u001b[0m \u001b[0;34m\u001b[0m\u001b[0m\n\u001b[0;32m--> 948\u001b[0;31m         \u001b[0mself\u001b[0m\u001b[0;34m.\u001b[0m\u001b[0m_make_engine\u001b[0m\u001b[0;34m(\u001b[0m\u001b[0mself\u001b[0m\u001b[0;34m.\u001b[0m\u001b[0mengine\u001b[0m\u001b[0;34m)\u001b[0m\u001b[0;34m\u001b[0m\u001b[0;34m\u001b[0m\u001b[0m\n\u001b[0m\u001b[1;32m    949\u001b[0m \u001b[0;34m\u001b[0m\u001b[0m\n\u001b[1;32m    950\u001b[0m     \u001b[0;32mdef\u001b[0m \u001b[0mclose\u001b[0m\u001b[0;34m(\u001b[0m\u001b[0mself\u001b[0m\u001b[0;34m)\u001b[0m\u001b[0;34m:\u001b[0m\u001b[0;34m\u001b[0m\u001b[0;34m\u001b[0m\u001b[0m\n",
            "\u001b[0;32m/usr/local/lib/python3.7/dist-packages/pandas/io/parsers.py\u001b[0m in \u001b[0;36m_make_engine\u001b[0;34m(self, engine)\u001b[0m\n\u001b[1;32m   1178\u001b[0m     \u001b[0;32mdef\u001b[0m \u001b[0m_make_engine\u001b[0m\u001b[0;34m(\u001b[0m\u001b[0mself\u001b[0m\u001b[0;34m,\u001b[0m \u001b[0mengine\u001b[0m\u001b[0;34m=\u001b[0m\u001b[0;34m\"c\"\u001b[0m\u001b[0;34m)\u001b[0m\u001b[0;34m:\u001b[0m\u001b[0;34m\u001b[0m\u001b[0;34m\u001b[0m\u001b[0m\n\u001b[1;32m   1179\u001b[0m         \u001b[0;32mif\u001b[0m \u001b[0mengine\u001b[0m \u001b[0;34m==\u001b[0m \u001b[0;34m\"c\"\u001b[0m\u001b[0;34m:\u001b[0m\u001b[0;34m\u001b[0m\u001b[0;34m\u001b[0m\u001b[0m\n\u001b[0;32m-> 1180\u001b[0;31m             \u001b[0mself\u001b[0m\u001b[0;34m.\u001b[0m\u001b[0m_engine\u001b[0m \u001b[0;34m=\u001b[0m \u001b[0mCParserWrapper\u001b[0m\u001b[0;34m(\u001b[0m\u001b[0mself\u001b[0m\u001b[0;34m.\u001b[0m\u001b[0mf\u001b[0m\u001b[0;34m,\u001b[0m \u001b[0;34m**\u001b[0m\u001b[0mself\u001b[0m\u001b[0;34m.\u001b[0m\u001b[0moptions\u001b[0m\u001b[0;34m)\u001b[0m\u001b[0;34m\u001b[0m\u001b[0;34m\u001b[0m\u001b[0m\n\u001b[0m\u001b[1;32m   1181\u001b[0m         \u001b[0;32melse\u001b[0m\u001b[0;34m:\u001b[0m\u001b[0;34m\u001b[0m\u001b[0;34m\u001b[0m\u001b[0m\n\u001b[1;32m   1182\u001b[0m             \u001b[0;32mif\u001b[0m \u001b[0mengine\u001b[0m \u001b[0;34m==\u001b[0m \u001b[0;34m\"python\"\u001b[0m\u001b[0;34m:\u001b[0m\u001b[0;34m\u001b[0m\u001b[0;34m\u001b[0m\u001b[0m\n",
            "\u001b[0;32m/usr/local/lib/python3.7/dist-packages/pandas/io/parsers.py\u001b[0m in \u001b[0;36m__init__\u001b[0;34m(self, src, **kwds)\u001b[0m\n\u001b[1;32m   2008\u001b[0m         \u001b[0mkwds\u001b[0m\u001b[0;34m[\u001b[0m\u001b[0;34m\"usecols\"\u001b[0m\u001b[0;34m]\u001b[0m \u001b[0;34m=\u001b[0m \u001b[0mself\u001b[0m\u001b[0;34m.\u001b[0m\u001b[0musecols\u001b[0m\u001b[0;34m\u001b[0m\u001b[0;34m\u001b[0m\u001b[0m\n\u001b[1;32m   2009\u001b[0m \u001b[0;34m\u001b[0m\u001b[0m\n\u001b[0;32m-> 2010\u001b[0;31m         \u001b[0mself\u001b[0m\u001b[0;34m.\u001b[0m\u001b[0m_reader\u001b[0m \u001b[0;34m=\u001b[0m \u001b[0mparsers\u001b[0m\u001b[0;34m.\u001b[0m\u001b[0mTextReader\u001b[0m\u001b[0;34m(\u001b[0m\u001b[0msrc\u001b[0m\u001b[0;34m,\u001b[0m \u001b[0;34m**\u001b[0m\u001b[0mkwds\u001b[0m\u001b[0;34m)\u001b[0m\u001b[0;34m\u001b[0m\u001b[0;34m\u001b[0m\u001b[0m\n\u001b[0m\u001b[1;32m   2011\u001b[0m         \u001b[0mself\u001b[0m\u001b[0;34m.\u001b[0m\u001b[0munnamed_cols\u001b[0m \u001b[0;34m=\u001b[0m \u001b[0mself\u001b[0m\u001b[0;34m.\u001b[0m\u001b[0m_reader\u001b[0m\u001b[0;34m.\u001b[0m\u001b[0munnamed_cols\u001b[0m\u001b[0;34m\u001b[0m\u001b[0;34m\u001b[0m\u001b[0m\n\u001b[1;32m   2012\u001b[0m \u001b[0;34m\u001b[0m\u001b[0m\n",
            "\u001b[0;32mpandas/_libs/parsers.pyx\u001b[0m in \u001b[0;36mpandas._libs.parsers.TextReader.__cinit__\u001b[0;34m()\u001b[0m\n",
            "\u001b[0;32mpandas/_libs/parsers.pyx\u001b[0m in \u001b[0;36mpandas._libs.parsers.TextReader._setup_parser_source\u001b[0;34m()\u001b[0m\n",
            "\u001b[0;31mFileNotFoundError\u001b[0m: [Errno 2] No such file or directory: './targets.csv'"
          ]
        }
      ]
    },
    {
      "cell_type": "markdown",
      "metadata": {
        "id": "p9Ti86odu4Ej"
      },
      "source": [
        "# data loader wersja 3 MK"
      ]
    },
    {
      "cell_type": "code",
      "metadata": {
        "id": "fyMa0_PQu-2Y"
      },
      "source": [
        "#MK\n",
        "\n",
        "import torch\n",
        "import torchvision\n",
        "import random\n",
        "import pandas as pd\n",
        "import torchvision.transforms.functional as TF\n",
        "from torch.utils.data import Dataset, DataLoader\n",
        "from collections import Counter\n",
        "from PIL import Image\n",
        "\n",
        "\n",
        "device = torch.device(\"cuda:0\")\n",
        "\n",
        "class ImagesData(Dataset):\n",
        "  \n",
        "  def __init__(self, disease_dictionary):\n",
        "    path_file = './Resize_image/' #Zmienić na właściwe\n",
        "\n",
        "\n",
        "    self.iterlist = []\n",
        "    for disease in disease_dictionary:\n",
        "      for picture in disease_dictionary[disease]:\n",
        "        self.iterlist.append((disease, os.path.join(path_file, picture)))\n",
        "    random.shuffle(self.iterlist)\n",
        "    self.iterlist = torch.from_numpy(np.asarray(self.iterlist))\n",
        "\n",
        "    self.preprocess_pipe = torchvision.transforms.Compose([\n",
        "    torchvision.transforms.Resize((224, 224)),\n",
        "    torchvision.transforms.ToTensor(),\n",
        "    torchvision.transforms.Normalize(mean=[0.485, 0.456, 0.406], std=[0.229, 0.224, 0.225])])\n",
        "\n",
        "    self.count_labels = Counter(self.iterlist)\n",
        "\n",
        "  def __len__(self):\n",
        "    return len(self.iterlist)\n",
        "  \n",
        "  def __getitem__(self, index):\n",
        "    label, image_path = self.iterlist[index]\n",
        "    image = self.preprocess_pipe(Image.open(image_path))\n",
        "    return [image, label]"
      ],
      "execution_count": null,
      "outputs": []
    },
    {
      "cell_type": "code",
      "metadata": {
        "colab": {
          "base_uri": "https://localhost:8080/",
          "height": 346
        },
        "id": "JJjYKoRO0AUG",
        "outputId": "2354b7df-77b7-4f59-c91c-c7c5c54dd4a3"
      },
      "source": [
        "# dataset = ImagesData('./Resize_image/')\n",
        "dataset = ImagesData(target_dict)\n",
        "data_loader = DataLoader(dataset,batch_size = 4,shuffle = True, num_workers= 1, pin_memory= True)\n",
        "print(dataset.count_labels)"
      ],
      "execution_count": null,
      "outputs": [
        {
          "output_type": "error",
          "ename": "TypeError",
          "evalue": "ignored",
          "traceback": [
            "\u001b[0;31m---------------------------------------------------------------------------\u001b[0m",
            "\u001b[0;31mTypeError\u001b[0m                                 Traceback (most recent call last)",
            "\u001b[0;32m<ipython-input-65-18601f901570>\u001b[0m in \u001b[0;36m<module>\u001b[0;34m()\u001b[0m\n\u001b[1;32m      1\u001b[0m \u001b[0;31m# dataset = ImagesData('./Resize_image/')\u001b[0m\u001b[0;34m\u001b[0m\u001b[0;34m\u001b[0m\u001b[0;34m\u001b[0m\u001b[0m\n\u001b[0;32m----> 2\u001b[0;31m \u001b[0mdataset\u001b[0m \u001b[0;34m=\u001b[0m \u001b[0mImagesData\u001b[0m\u001b[0;34m(\u001b[0m\u001b[0mtarget_dict\u001b[0m\u001b[0;34m)\u001b[0m\u001b[0;34m\u001b[0m\u001b[0;34m\u001b[0m\u001b[0m\n\u001b[0m\u001b[1;32m      3\u001b[0m \u001b[0mdata_loader\u001b[0m \u001b[0;34m=\u001b[0m \u001b[0mDataLoader\u001b[0m\u001b[0;34m(\u001b[0m\u001b[0mdataset\u001b[0m\u001b[0;34m,\u001b[0m\u001b[0mbatch_size\u001b[0m \u001b[0;34m=\u001b[0m \u001b[0;36m4\u001b[0m\u001b[0;34m,\u001b[0m\u001b[0mshuffle\u001b[0m \u001b[0;34m=\u001b[0m \u001b[0;32mTrue\u001b[0m\u001b[0;34m,\u001b[0m \u001b[0mnum_workers\u001b[0m\u001b[0;34m=\u001b[0m \u001b[0;36m1\u001b[0m\u001b[0;34m,\u001b[0m \u001b[0mpin_memory\u001b[0m\u001b[0;34m=\u001b[0m \u001b[0;32mTrue\u001b[0m\u001b[0;34m)\u001b[0m\u001b[0;34m\u001b[0m\u001b[0;34m\u001b[0m\u001b[0m\n\u001b[1;32m      4\u001b[0m \u001b[0mprint\u001b[0m\u001b[0;34m(\u001b[0m\u001b[0mdataset\u001b[0m\u001b[0;34m.\u001b[0m\u001b[0mcount_labels\u001b[0m\u001b[0;34m)\u001b[0m\u001b[0;34m\u001b[0m\u001b[0;34m\u001b[0m\u001b[0m\n",
            "\u001b[0;32m<ipython-input-64-c8f82f3d6439>\u001b[0m in \u001b[0;36m__init__\u001b[0;34m(self, disease_dictionary)\u001b[0m\n\u001b[1;32m     24\u001b[0m         \u001b[0mself\u001b[0m\u001b[0;34m.\u001b[0m\u001b[0miterlist\u001b[0m\u001b[0;34m.\u001b[0m\u001b[0mappend\u001b[0m\u001b[0;34m(\u001b[0m\u001b[0;34m(\u001b[0m\u001b[0mdisease\u001b[0m\u001b[0;34m,\u001b[0m \u001b[0mos\u001b[0m\u001b[0;34m.\u001b[0m\u001b[0mpath\u001b[0m\u001b[0;34m.\u001b[0m\u001b[0mjoin\u001b[0m\u001b[0;34m(\u001b[0m\u001b[0mpath_file\u001b[0m\u001b[0;34m,\u001b[0m \u001b[0mpicture\u001b[0m\u001b[0;34m)\u001b[0m\u001b[0;34m)\u001b[0m\u001b[0;34m)\u001b[0m\u001b[0;34m\u001b[0m\u001b[0;34m\u001b[0m\u001b[0m\n\u001b[1;32m     25\u001b[0m     \u001b[0mrandom\u001b[0m\u001b[0;34m.\u001b[0m\u001b[0mshuffle\u001b[0m\u001b[0;34m(\u001b[0m\u001b[0mself\u001b[0m\u001b[0;34m.\u001b[0m\u001b[0miterlist\u001b[0m\u001b[0;34m)\u001b[0m\u001b[0;34m\u001b[0m\u001b[0;34m\u001b[0m\u001b[0m\n\u001b[0;32m---> 26\u001b[0;31m     \u001b[0mself\u001b[0m\u001b[0;34m.\u001b[0m\u001b[0miterlist\u001b[0m \u001b[0;34m=\u001b[0m \u001b[0mtorch\u001b[0m\u001b[0;34m.\u001b[0m\u001b[0mfrom_numpy\u001b[0m\u001b[0;34m(\u001b[0m\u001b[0mnp\u001b[0m\u001b[0;34m.\u001b[0m\u001b[0masarray\u001b[0m\u001b[0;34m(\u001b[0m\u001b[0mself\u001b[0m\u001b[0;34m.\u001b[0m\u001b[0miterlist\u001b[0m\u001b[0;34m)\u001b[0m\u001b[0;34m)\u001b[0m\u001b[0;34m\u001b[0m\u001b[0;34m\u001b[0m\u001b[0m\n\u001b[0m\u001b[1;32m     27\u001b[0m \u001b[0;34m\u001b[0m\u001b[0m\n\u001b[1;32m     28\u001b[0m     self.preprocess_pipe = torchvision.transforms.Compose([\n",
            "\u001b[0;31mTypeError\u001b[0m: can't convert np.ndarray of type numpy.str_. The only supported types are: float64, float32, float16, complex64, complex128, int64, int32, int16, int8, uint8, and bool."
          ]
        }
      ]
    },
    {
      "cell_type": "markdown",
      "metadata": {
        "id": "FcaoYuwTwkMd"
      },
      "source": [
        "# Data loader wersja 2 - mozna edytowac "
      ]
    },
    {
      "cell_type": "code",
      "metadata": {
        "id": "e1KXk3dQwmnv"
      },
      "source": [
        "import torch\n",
        "import torchvision\n",
        "import pandas as pd\n",
        "import torchvision.transforms.functional as TF\n",
        "from torch.utils.data import Dataset, DataLoader\n",
        "from collections import Counter\n",
        "from PIL import Image\n",
        "\n",
        "\n",
        "device = torch.device(\"cuda:0\")\n",
        "\n",
        "class ImagesData(Dataset):\n",
        "  \n",
        "    def __init__(self, path_dir):\n",
        "        \n",
        "        #self.paths = (lambda file_name: path_dir + '/' + lista ) \n",
        "\n",
        "        self.paths = os\n",
        "        self.labels = dataframee\n",
        "        \n",
        "\n",
        "        self.length = len(self.labels)\n",
        "        self.count_labels = Counter(self.labels)\n",
        "\n",
        "        self.preprocess_pipe = torchvision.transforms.Compose([\n",
        "        torchvision.transforms.Resize((224, 224)),\n",
        "        torchvision.transforms.ToTensor(),\n",
        "        torchvision.transforms.Normalize(mean=[0.485, 0.456, 0.406], std=[0.229, 0.224, 0.225])])\n",
        "\n",
        "    def __len__(self):\n",
        "        return self.length\n",
        "    \n",
        "    def __getitem__(self, index):\n",
        "        image = self.preprocess_pipe(Image.open(self.paths[index]))\n",
        "        return [image,self.labels[index]] "
      ],
      "execution_count": null,
      "outputs": []
    },
    {
      "cell_type": "markdown",
      "metadata": {
        "id": "5oxjT-KyKOPZ"
      },
      "source": [
        "# Wiemy, że wszytskie zdjęcia są tego samego rozmairu, więc możemy zbudować dataloader: wersja 1 **NIE WOLNO EDYTOWAC**, BO DZIALA"
      ]
    },
    {
      "cell_type": "code",
      "metadata": {
        "id": "fAthL-aYl1LP"
      },
      "source": [
        "import torch\n",
        "import torchvision\n",
        "import pandas as pd\n",
        "import torchvision.transforms.functional as TF\n",
        "from torch.utils.data import Dataset, DataLoader\n",
        "from collections import Counter\n",
        "from PIL import Image\n",
        "\n",
        "\n",
        "device = torch.device(\"cuda:0\")\n",
        "\n",
        "class ImagesData(Dataset):\n",
        "  \n",
        "    def __init__(self, path_dir):\n",
        "        path_file = './full_df.csv'\n",
        "        data =  pd.read_csv(path_file)\n",
        "\n",
        "        self.paths = data['filename'].apply(lambda file_name: path_dir + '/' + file_name )\n",
        "\n",
        "        self.labels = []\n",
        "        for target in data['target']:\n",
        "          target = target[1:len(target)-1].split(\", \").index(\"1\")\n",
        "          self.labels.append(target)\n",
        "\n",
        "        self.length = len(self.labels)\n",
        "        self.count_labels = Counter(self.labels)\n",
        "\n",
        "        self.preprocess_pipe = torchvision.transforms.Compose([\n",
        "        torchvision.transforms.Resize((224, 224)),\n",
        "        torchvision.transforms.ToTensor(),\n",
        "        torchvision.transforms.Normalize(mean=[0.485, 0.456, 0.406], std=[0.229, 0.224, 0.225])])\n",
        "\n",
        "    def __len__(self):\n",
        "        return self.length\n",
        "    \n",
        "    def __getitem__(self, index):\n",
        "        image = self.preprocess_pipe(Image.open(self.paths[index]))\n",
        "        return [image,self.labels[index]] "
      ],
      "execution_count": null,
      "outputs": []
    },
    {
      "cell_type": "markdown",
      "metadata": {
        "id": "koASAWoh9THO"
      },
      "source": [
        "Następnie budujemy instancje klasy "
      ]
    },
    {
      "cell_type": "code",
      "metadata": {
        "colab": {
          "base_uri": "https://localhost:8080/"
        },
        "id": "fpot2LJ8yNlp",
        "outputId": "44234d23-0457-4d87-b83c-ca95ebae9f5f"
      },
      "source": [
        "target_dict"
      ],
      "execution_count": null,
      "outputs": [
        {
          "output_type": "execute_result",
          "data": {
            "text/plain": [
              "{'cukrzyca': [], 'zdrowe': []}"
            ]
          },
          "metadata": {},
          "execution_count": 25
        }
      ]
    },
    {
      "cell_type": "code",
      "metadata": {
        "colab": {
          "base_uri": "https://localhost:8080/",
          "height": 214
        },
        "id": "o_CeUTXV9umy",
        "outputId": "d62f38f6-a70b-468a-ae81-d9a69113a315"
      },
      "source": [
        "# dataset = ImagesData('./Resize_image/')\n",
        "dataset = ImagesData(target_dict)\n",
        "data_loader = DataLoader(dataset,batch_size = 4,shuffle = True, num_workers= 1, pin_memory= True)\n",
        "print(dataset.count_labels)"
      ],
      "execution_count": null,
      "outputs": [
        {
          "output_type": "error",
          "ename": "NameError",
          "evalue": "ignored",
          "traceback": [
            "\u001b[0;31m---------------------------------------------------------------------------\u001b[0m",
            "\u001b[0;31mNameError\u001b[0m                                 Traceback (most recent call last)",
            "\u001b[0;32m<ipython-input-6-18601f901570>\u001b[0m in \u001b[0;36m<module>\u001b[0;34m()\u001b[0m\n\u001b[1;32m      1\u001b[0m \u001b[0;31m# dataset = ImagesData('./Resize_image/')\u001b[0m\u001b[0;34m\u001b[0m\u001b[0;34m\u001b[0m\u001b[0;34m\u001b[0m\u001b[0m\n\u001b[0;32m----> 2\u001b[0;31m \u001b[0mdataset\u001b[0m \u001b[0;34m=\u001b[0m \u001b[0mImagesData\u001b[0m\u001b[0;34m(\u001b[0m\u001b[0mtarget_dict\u001b[0m\u001b[0;34m)\u001b[0m\u001b[0;34m\u001b[0m\u001b[0;34m\u001b[0m\u001b[0m\n\u001b[0m\u001b[1;32m      3\u001b[0m \u001b[0mdata_loader\u001b[0m \u001b[0;34m=\u001b[0m \u001b[0mDataLoader\u001b[0m\u001b[0;34m(\u001b[0m\u001b[0mdataset\u001b[0m\u001b[0;34m,\u001b[0m\u001b[0mbatch_size\u001b[0m \u001b[0;34m=\u001b[0m \u001b[0;36m4\u001b[0m\u001b[0;34m,\u001b[0m\u001b[0mshuffle\u001b[0m \u001b[0;34m=\u001b[0m \u001b[0;32mTrue\u001b[0m\u001b[0;34m,\u001b[0m \u001b[0mnum_workers\u001b[0m\u001b[0;34m=\u001b[0m \u001b[0;36m1\u001b[0m\u001b[0;34m,\u001b[0m \u001b[0mpin_memory\u001b[0m\u001b[0;34m=\u001b[0m \u001b[0;32mTrue\u001b[0m\u001b[0;34m)\u001b[0m\u001b[0;34m\u001b[0m\u001b[0;34m\u001b[0m\u001b[0m\n\u001b[1;32m      4\u001b[0m \u001b[0mprint\u001b[0m\u001b[0;34m(\u001b[0m\u001b[0mdataset\u001b[0m\u001b[0;34m.\u001b[0m\u001b[0mcount_labels\u001b[0m\u001b[0;34m)\u001b[0m\u001b[0;34m\u001b[0m\u001b[0;34m\u001b[0m\u001b[0m\n",
            "\u001b[0;31mNameError\u001b[0m: name 'target_dict' is not defined"
          ]
        }
      ]
    },
    {
      "cell_type": "markdown",
      "metadata": {
        "id": "aqGFP29-_Y09"
      },
      "source": [
        "Tworzenie wag: - CHWILOWO NIE UZYWAM"
      ]
    },
    {
      "cell_type": "code",
      "metadata": {
        "colab": {
          "base_uri": "https://localhost:8080/"
        },
        "id": "i2b1SZtHmRwg",
        "outputId": "b8a5f0fd-8853-4476-aa2c-b08a94946501"
      },
      "source": [
        "tab = [0]*8\n",
        "for i in dataset.count_labels:\n",
        "  tab[i] = (dataset.count_labels[i])\n",
        "tab"
      ],
      "execution_count": null,
      "outputs": [
        {
          "data": {
            "text/plain": [
              "[2873, 1608, 284, 293, 266, 128, 232, 708]"
            ]
          },
          "execution_count": 52,
          "metadata": {},
          "output_type": "execute_result"
        }
      ]
    },
    {
      "cell_type": "code",
      "metadata": {
        "id": "2m3D24nenzh9"
      },
      "source": [
        "general_sum = sum(tab)\n",
        "weight = [0]*8\n",
        "for i in range(8):\n",
        "  weight[i] = 1 - tab[i]/general_sum"
      ],
      "execution_count": null,
      "outputs": []
    },
    {
      "cell_type": "code",
      "metadata": {
        "colab": {
          "base_uri": "https://localhost:8080/"
        },
        "id": "UXjmK6Pyoj_t",
        "outputId": "2e927c62-75ca-4a51-ca99-9e4bda89af3c"
      },
      "source": [
        "weight"
      ],
      "execution_count": null,
      "outputs": [
        {
          "data": {
            "text/plain": [
              "[0.550531914893617,\n",
              " 0.7484355444305382,\n",
              " 0.9555694618272841,\n",
              " 0.9541614518147684,\n",
              " 0.9583854818523154,\n",
              " 0.9799749687108886,\n",
              " 0.9637046307884856,\n",
              " 0.8892365456821026]"
            ]
          },
          "execution_count": 7,
          "metadata": {},
          "output_type": "execute_result"
        }
      ]
    },
    {
      "cell_type": "markdown",
      "metadata": {
        "id": "rg-mxWE_gFIl"
      },
      "source": [
        "#przerobienie kody z resnet - model"
      ]
    },
    {
      "cell_type": "code",
      "metadata": {
        "id": "H8hUPb5ncSlz"
      },
      "source": [
        "import torch.nn as nn\n",
        "import torchvision\n",
        "from torchvision import datasets, models, transforms\n",
        "import matplotlib.pyplot as plt\n",
        "\n",
        "model = models.resnet50(True).to(device)\n",
        "for param in model.parameters():\n",
        "  param.requires_grad = False\n",
        "model.fc = nn.Linear(2048,8).to(device)"
      ],
      "execution_count": null,
      "outputs": []
    },
    {
      "cell_type": "markdown",
      "metadata": {
        "id": "6LqwsG-j6YHH"
      },
      "source": [
        "#Pętla treningowa"
      ]
    },
    {
      "cell_type": "code",
      "metadata": {
        "colab": {
          "base_uri": "https://localhost:8080/",
          "height": 231
        },
        "id": "ivVKhbK5tUWv",
        "outputId": "8c820005-ab94-4fae-fe45-681bd58c61a3"
      },
      "source": [
        "import torch.optim as optim\n",
        "from tqdm.notebook import tqdm\n",
        "\n",
        "\n",
        "optimizer = optim.Adam(model.parameters(), lr = 1e-4)\n",
        "#loss_function = nn.CrossEntropyLoss(weight = torch.tensor(weight).to(device))\n",
        "loss_function = nn.CrossEntropyLoss()\n",
        "epochs = 20\n",
        "\n",
        "training_loss = []\n",
        "\n",
        "for epoch in range(epochs):\n",
        "    for inputs, labels in tqdm(data_loader):\n",
        "        inputs = inputs.type(torch.FloatTensor)\n",
        "        inputs = inputs.to(device)\n",
        "        labels = labels.to(device) \n",
        "        optimizer.zero_grad()\n",
        "        outputs = model(inputs)\n",
        "        loss = loss_function(outputs, labels)\n",
        "        training_loss.append(loss.item())\n",
        "        loss.backward()\n",
        "        optimizer.step()\n",
        "    print(\"Epoch: {} Loss: {}\".format(epoch + 1, loss))"
      ],
      "execution_count": null,
      "outputs": [
        {
          "output_type": "error",
          "ename": "NameError",
          "evalue": "ignored",
          "traceback": [
            "\u001b[0;31m---------------------------------------------------------------------------\u001b[0m",
            "\u001b[0;31mNameError\u001b[0m                                 Traceback (most recent call last)",
            "\u001b[0;32m<ipython-input-5-823b8ff10e17>\u001b[0m in \u001b[0;36m<module>\u001b[0;34m()\u001b[0m\n\u001b[1;32m     11\u001b[0m \u001b[0;34m\u001b[0m\u001b[0m\n\u001b[1;32m     12\u001b[0m \u001b[0;32mfor\u001b[0m \u001b[0mepoch\u001b[0m \u001b[0;32min\u001b[0m \u001b[0mrange\u001b[0m\u001b[0;34m(\u001b[0m\u001b[0mepochs\u001b[0m\u001b[0;34m)\u001b[0m\u001b[0;34m:\u001b[0m\u001b[0;34m\u001b[0m\u001b[0;34m\u001b[0m\u001b[0m\n\u001b[0;32m---> 13\u001b[0;31m     \u001b[0;32mfor\u001b[0m \u001b[0minputs\u001b[0m\u001b[0;34m,\u001b[0m \u001b[0mlabels\u001b[0m \u001b[0;32min\u001b[0m \u001b[0mtqdm\u001b[0m\u001b[0;34m(\u001b[0m\u001b[0mdata_loader\u001b[0m\u001b[0;34m)\u001b[0m\u001b[0;34m:\u001b[0m\u001b[0;34m\u001b[0m\u001b[0;34m\u001b[0m\u001b[0m\n\u001b[0m\u001b[1;32m     14\u001b[0m         \u001b[0minputs\u001b[0m \u001b[0;34m=\u001b[0m \u001b[0minputs\u001b[0m\u001b[0;34m.\u001b[0m\u001b[0mtype\u001b[0m\u001b[0;34m(\u001b[0m\u001b[0mtorch\u001b[0m\u001b[0;34m.\u001b[0m\u001b[0mFloatTensor\u001b[0m\u001b[0;34m)\u001b[0m\u001b[0;34m\u001b[0m\u001b[0;34m\u001b[0m\u001b[0m\n\u001b[1;32m     15\u001b[0m         \u001b[0minputs\u001b[0m \u001b[0;34m=\u001b[0m \u001b[0minputs\u001b[0m\u001b[0;34m.\u001b[0m\u001b[0mto\u001b[0m\u001b[0;34m(\u001b[0m\u001b[0mdevice\u001b[0m\u001b[0;34m)\u001b[0m\u001b[0;34m\u001b[0m\u001b[0;34m\u001b[0m\u001b[0m\n",
            "\u001b[0;31mNameError\u001b[0m: name 'data_loader' is not defined"
          ]
        }
      ]
    },
    {
      "cell_type": "markdown",
      "metadata": {
        "id": "Du_8EH_n_oCr"
      },
      "source": [
        "#Badanie, czy nasza sieć się uczy:"
      ]
    },
    {
      "cell_type": "code",
      "metadata": {
        "id": "vddzGo8o_9E2"
      },
      "source": [
        "import matplotlib.pyplot as plt\n",
        "plt.plot(training_loss)\n",
        "plt.show()"
      ],
      "execution_count": null,
      "outputs": []
    },
    {
      "cell_type": "code",
      "metadata": {
        "id": "iEnLiAbD11Jq"
      },
      "source": [
        ""
      ],
      "execution_count": null,
      "outputs": []
    },
    {
      "cell_type": "code",
      "metadata": {
        "id": "8QpUN0QYJWWN"
      },
      "source": [
        "ok = 0\n",
        "l =[0]*8\n",
        "a = [0]*8\n",
        "all = 0\n",
        "with torch.no_grad():\n",
        "  for inputs, labels in data_loader:\n",
        "        inputs = inputs.type(torch.FloatTensor)\n",
        "        inputs = inputs.to(device)\n",
        "        labels = labels.to(device) \n",
        "        outputs = model(inputs)\n",
        "        for i,j in enumerate(torch.argmax(outputs, dim = 1)):\n",
        "          if labels[i] == j:\n",
        "            l[labels[i]] += 1\n",
        "          a[labels[i]] += 1\n",
        "        ok += sum(labels == torch.argmax(outputs, dim = 1)).item()\n",
        "        all += inputs.shape[0]\n",
        "        \n",
        "\n",
        "for i in range(8):\n",
        "   if a[i] != 0:\n",
        "    print(l[i]*100/a[i])\n",
        "   else:\n",
        "     print (\"a[\"+str(i)+\"] = 0\")\n",
        "\n",
        "        \n",
        "\n"
      ],
      "execution_count": null,
      "outputs": []
    },
    {
      "cell_type": "code",
      "metadata": {
        "id": "E7GaQ_qO5yFX"
      },
      "source": [
        "dataset.ile_labels\n"
      ],
      "execution_count": null,
      "outputs": []
    }
  ]
}